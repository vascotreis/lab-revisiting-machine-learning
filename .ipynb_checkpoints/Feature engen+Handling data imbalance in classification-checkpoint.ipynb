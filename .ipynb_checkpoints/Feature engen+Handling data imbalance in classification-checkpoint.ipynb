{
 "cells": [
  {
   "cell_type": "code",
   "execution_count": 1,
   "id": "bbb19973",
   "metadata": {},
   "outputs": [],
   "source": [
    "import pandas as pd\n",
    "import numpy as np\n",
    "from sklearn.preprocessing import MinMaxScaler \n",
    "from sklearn.preprocessing import OneHotEncoder\n",
    "from sklearn.metrics import accuracy_score\n",
    "from sklearn.model_selection import train_test_split\n",
    "from sklearn.linear_model import LogisticRegression\n",
    "from sklearn.metrics import confusion_matrix\n",
    "from sklearn.metrics import f1_score\n",
    "import matplotlib.pyplot as plt\n",
    "from sklearn.utils import resample\n",
    "from imblearn.over_sampling import SMOTE\n",
    "\n",
    "pd.set_option('display.max_columns', 15)\n",
    "pd.set_option('display.max_rows', 15)"
   ]
  },
  {
   "cell_type": "code",
   "execution_count": 2,
   "id": "03a36ad4",
   "metadata": {},
   "outputs": [],
   "source": [
    "y = pd.read_csv('target1.csv')\n",
    "\n",
    "numerical = pd.read_csv('numerical1.csv')\n",
    "categorical = pd.read_csv('categorical1.csv')"
   ]
  },
  {
   "cell_type": "code",
   "execution_count": 3,
   "id": "5511ead2",
   "metadata": {},
   "outputs": [],
   "source": [
    "y = y['TARGET_B']\n",
    "numerical = numerical.drop(columns = 'Unnamed: 0')\n",
    "categorical = categorical.drop(columns = 'Unnamed: 0')"
   ]
  },
  {
   "cell_type": "code",
   "execution_count": 4,
   "id": "622581f2",
   "metadata": {},
   "outputs": [
    {
     "data": {
      "text/html": [
       "<div>\n",
       "<style scoped>\n",
       "    .dataframe tbody tr th:only-of-type {\n",
       "        vertical-align: middle;\n",
       "    }\n",
       "\n",
       "    .dataframe tbody tr th {\n",
       "        vertical-align: top;\n",
       "    }\n",
       "\n",
       "    .dataframe thead th {\n",
       "        text-align: right;\n",
       "    }\n",
       "</style>\n",
       "<table border=\"1\" class=\"dataframe\">\n",
       "  <thead>\n",
       "    <tr style=\"text-align: right;\">\n",
       "      <th></th>\n",
       "      <th>count</th>\n",
       "      <th>val</th>\n",
       "    </tr>\n",
       "  </thead>\n",
       "  <tbody>\n",
       "    <tr>\n",
       "      <th>316</th>\n",
       "      <td>NEXTDATE</td>\n",
       "      <td>9973</td>\n",
       "    </tr>\n",
       "  </tbody>\n",
       "</table>\n",
       "</div>"
      ],
      "text/plain": [
       "        count   val\n",
       "316  NEXTDATE  9973"
      ]
     },
     "metadata": {},
     "output_type": "display_data"
    }
   ],
   "source": [
    "def nan_check(data):\n",
    "    nans = pd.DataFrame(data.isna().sum()).reset_index()\n",
    "    nans.columns = ['count', 'val']\n",
    "    display(nans[nans['val']>0])\n",
    "    return None\n",
    "\n",
    "nan_check(numerical)"
   ]
  },
  {
   "cell_type": "code",
   "execution_count": 5,
   "id": "ddfc4b84",
   "metadata": {},
   "outputs": [],
   "source": [
    "numerical['NEXTDATE'] = numerical['NEXTDATE'].fillna(0)"
   ]
  },
  {
   "cell_type": "code",
   "execution_count": 6,
   "id": "c328a4e9",
   "metadata": {},
   "outputs": [
    {
     "data": {
      "text/plain": [
       "STATE        object\n",
       "CLUSTER       int64\n",
       "HOMEOWNR     object\n",
       "GENDER       object\n",
       "DATASRCE      int64\n",
       "SOLIH       float64\n",
       "VETERANS     object\n",
       "RFA_2R       object\n",
       "RFA_2A       object\n",
       "GEOCODE2     object\n",
       "DOMAIN_A     object\n",
       "DOMAIN_B      int64\n",
       "dtype: object"
      ]
     },
     "execution_count": 6,
     "metadata": {},
     "output_type": "execute_result"
    }
   ],
   "source": [
    "categorical.dtypes\n"
   ]
  },
  {
   "cell_type": "code",
   "execution_count": 7,
   "id": "f865db97",
   "metadata": {},
   "outputs": [
    {
     "data": {
      "text/plain": [
       "STATE        object\n",
       "CLUSTER       int64\n",
       "HOMEOWNR     object\n",
       "GENDER       object\n",
       "DATASRCE      int64\n",
       "SOLIH       float64\n",
       "VETERANS     object\n",
       "RFA_2R       object\n",
       "RFA_2A       object\n",
       "GEOCODE2     object\n",
       "DOMAIN_A     object\n",
       "DOMAIN_B      int64\n",
       "dtype: object"
      ]
     },
     "execution_count": 7,
     "metadata": {},
     "output_type": "execute_result"
    }
   ],
   "source": [
    "categorical.dtypes\n"
   ]
  },
  {
   "cell_type": "code",
   "execution_count": 8,
   "id": "9517802a",
   "metadata": {},
   "outputs": [
    {
     "data": {
      "text/html": [
       "<div>\n",
       "<style scoped>\n",
       "    .dataframe tbody tr th:only-of-type {\n",
       "        vertical-align: middle;\n",
       "    }\n",
       "\n",
       "    .dataframe tbody tr th {\n",
       "        vertical-align: top;\n",
       "    }\n",
       "\n",
       "    .dataframe thead th {\n",
       "        text-align: right;\n",
       "    }\n",
       "</style>\n",
       "<table border=\"1\" class=\"dataframe\">\n",
       "  <thead>\n",
       "    <tr style=\"text-align: right;\">\n",
       "      <th></th>\n",
       "      <th>count</th>\n",
       "      <th>val</th>\n",
       "    </tr>\n",
       "  </thead>\n",
       "  <tbody>\n",
       "    <tr>\n",
       "      <th>5</th>\n",
       "      <td>SOLIH</td>\n",
       "      <td>89212</td>\n",
       "    </tr>\n",
       "    <tr>\n",
       "      <th>6</th>\n",
       "      <td>VETERANS</td>\n",
       "      <td>84986</td>\n",
       "    </tr>\n",
       "  </tbody>\n",
       "</table>\n",
       "</div>"
      ],
      "text/plain": [
       "      count    val\n",
       "5     SOLIH  89212\n",
       "6  VETERANS  84986"
      ]
     },
     "metadata": {},
     "output_type": "display_data"
    }
   ],
   "source": [
    "nan_check(categorical)\n"
   ]
  },
  {
   "cell_type": "code",
   "execution_count": 9,
   "id": "9fb1d836",
   "metadata": {},
   "outputs": [
    {
     "data": {
      "text/plain": [
       "NaN     89212\n",
       "12.0     5693\n",
       "0.0       296\n",
       "1.0        94\n",
       "2.0        75\n",
       "3.0        19\n",
       "4.0        16\n",
       "6.0         7\n",
       "Name: SOLIH, dtype: int64"
      ]
     },
     "execution_count": 9,
     "metadata": {},
     "output_type": "execute_result"
    }
   ],
   "source": [
    "categorical.SOLIH.value_counts(dropna=False)\n"
   ]
  },
  {
   "cell_type": "code",
   "execution_count": 10,
   "id": "28f4c8a9",
   "metadata": {},
   "outputs": [
    {
     "data": {
      "text/plain": [
       "13.0    89212\n",
       "12.0     5693\n",
       "0.0       296\n",
       "1.0        94\n",
       "2.0        75\n",
       "3.0        19\n",
       "4.0        16\n",
       "6.0         7\n",
       "Name: SOLIH, dtype: int64"
      ]
     },
     "execution_count": 10,
     "metadata": {},
     "output_type": "execute_result"
    }
   ],
   "source": [
    "categorical.SOLIH = categorical.SOLIH.fillna(13)\n",
    "categorical.SOLIH.value_counts(dropna=False)"
   ]
  },
  {
   "cell_type": "code",
   "execution_count": 11,
   "id": "8f871a20",
   "metadata": {},
   "outputs": [
    {
     "data": {
      "text/plain": [
       "NaN    84986\n",
       "Y      10426\n",
       "Name: VETERANS, dtype: int64"
      ]
     },
     "execution_count": 11,
     "metadata": {},
     "output_type": "execute_result"
    }
   ],
   "source": [
    "\n",
    "categorical.VETERANS.value_counts(dropna=False)"
   ]
  },
  {
   "cell_type": "code",
   "execution_count": 12,
   "id": "711d2945",
   "metadata": {},
   "outputs": [
    {
     "data": {
      "text/plain": [
       "N    84986\n",
       "Y    10426\n",
       "Name: VETERANS, dtype: int64"
      ]
     },
     "execution_count": 12,
     "metadata": {},
     "output_type": "execute_result"
    }
   ],
   "source": [
    "categorical.VETERANS = categorical.VETERANS.fillna('N')\n",
    "categorical.VETERANS.value_counts(dropna=False)"
   ]
  },
  {
   "cell_type": "code",
   "execution_count": 13,
   "id": "ab575291",
   "metadata": {},
   "outputs": [
    {
     "data": {
      "text/plain": [
       "3    64829\n",
       "2    23455\n",
       "1     7128\n",
       "Name: DATASRCE, dtype: int64"
      ]
     },
     "execution_count": 13,
     "metadata": {},
     "output_type": "execute_result"
    }
   ],
   "source": [
    "\n",
    "categorical.DATASRCE.value_counts()"
   ]
  },
  {
   "cell_type": "code",
   "execution_count": 14,
   "id": "5bc82dfa",
   "metadata": {},
   "outputs": [
    {
     "data": {
      "text/plain": [
       "STATE       object\n",
       "CLUSTER     object\n",
       "HOMEOWNR    object\n",
       "GENDER      object\n",
       "DATASRCE    object\n",
       "SOLIH       object\n",
       "VETERANS    object\n",
       "RFA_2R      object\n",
       "RFA_2A      object\n",
       "GEOCODE2    object\n",
       "DOMAIN_A    object\n",
       "DOMAIN_B    object\n",
       "dtype: object"
      ]
     },
     "execution_count": 14,
     "metadata": {},
     "output_type": "execute_result"
    }
   ],
   "source": [
    "categorical = categorical.applymap(str)\n",
    "categorical.dtypes"
   ]
  },
  {
   "cell_type": "code",
   "execution_count": 15,
   "id": "8023063e",
   "metadata": {},
   "outputs": [],
   "source": [
    "X = pd.concat([numerical, categorical], axis = 1)\n",
    "X_train, X_test, y_train, y_test = train_test_split(X, y, test_size=0.25, random_state = 1)"
   ]
  },
  {
   "cell_type": "code",
   "execution_count": 16,
   "id": "fbbfe482",
   "metadata": {},
   "outputs": [],
   "source": [
    "X_train_num = X_train.select_dtypes(np.number) \n",
    "X_train_cat = X_train.select_dtypes(object)\n",
    "X_test_num = X_test.select_dtypes(np.number)\n",
    "X_test_cat  = X_test.select_dtypes(object)"
   ]
  },
  {
   "cell_type": "code",
   "execution_count": 17,
   "id": "34e16ed7",
   "metadata": {},
   "outputs": [],
   "source": [
    "transformer = MinMaxScaler().fit(X_train_num)\n",
    "\n",
    "X_train_num_scaled = pd.DataFrame(transformer.transform(X_train_num), columns = X_train_num.columns)\n",
    "X_test_num_scaled = pd.DataFrame(transformer.transform(X_test_num), columns = X_test_num.columns)"
   ]
  },
  {
   "cell_type": "code",
   "execution_count": 18,
   "id": "dbc0788b",
   "metadata": {},
   "outputs": [],
   "source": [
    "def cat_encode(data, _onehotencoder):\n",
    "\n",
    "    encoded = _onehotencoder.transform(data).toarray()\n",
    "    cols = _onehotencoder.get_feature_names_out(input_features=data.columns)\n",
    "    \n",
    "    # Returning a complete encoded categorical dataset\n",
    "    return pd.DataFrame(encoded, columns=cols).reset_index(drop=True)\n",
    "\n",
    "onehotencoder = OneHotEncoder(drop='first', handle_unknown = 'ignore').fit(X_train_cat)\n",
    "\n",
    "X_train_cat_encoded = cat_encode(X_train_cat, onehotencoder).reset_index(drop = True)\n",
    "X_test_cat_encoded = cat_encode(X_test_cat, onehotencoder).reset_index(drop = True)"
   ]
  },
  {
   "cell_type": "code",
   "execution_count": 19,
   "id": "7e0bc7f3",
   "metadata": {},
   "outputs": [],
   "source": [
    "X_train_scaled = pd.concat([X_train_cat_encoded, X_train_num_scaled], axis = 1)\n",
    "X_test_scaled = pd.concat([X_test_cat_encoded, X_test_num_scaled], axis = 1)"
   ]
  },
  {
   "cell_type": "code",
   "execution_count": 20,
   "id": "4a18168f",
   "metadata": {},
   "outputs": [],
   "source": [
    "y_test = y_test.reset_index(drop = True)\n",
    "y_train = y_train.reset_index(drop = True)"
   ]
  },
  {
   "cell_type": "code",
   "execution_count": 21,
   "id": "3cdccae2",
   "metadata": {},
   "outputs": [],
   "source": [
    "X_train_scaled = pd.concat([X_train_cat_encoded, X_train_num_scaled], axis = 1)\n",
    "X_test_scaled = pd.concat([X_test_cat_encoded, X_test_num_scaled], axis = 1)"
   ]
  },
  {
   "cell_type": "code",
   "execution_count": 22,
   "id": "fd7a68f9",
   "metadata": {},
   "outputs": [],
   "source": [
    "X_train_scaled = pd.concat([X_train_cat_encoded, X_train_num_scaled], axis = 1)\n",
    "X_test_scaled = pd.concat([X_test_cat_encoded, X_test_num_scaled], axis = 1)"
   ]
  },
  {
   "cell_type": "code",
   "execution_count": 23,
   "id": "ae14237d",
   "metadata": {},
   "outputs": [],
   "source": [
    "def model(X, y, X_t):\n",
    "    \n",
    "    lr = LogisticRegression(random_state=0, solver= 'saga', multi_class='multinomial').fit(X, y)\n",
    "    return lr.predict(X_t)"
   ]
  },
  {
   "cell_type": "code",
   "execution_count": 24,
   "id": "f3221f70",
   "metadata": {},
   "outputs": [],
   "source": [
    "def model_eval(Y, P):\n",
    "    print('\\033[1m'+'\\033[91m'+'      Logistics Regression\\n'+'\\033[0m')\n",
    "    array = confusion_matrix(Y, P)\n",
    "    print('             Predicted Labels')\n",
    "    print('             |      A     |     B')    \n",
    "    print('             ------------------------')\n",
    "    print('True label A |   ',array[0][0],'  |    ', array[0][1])\n",
    "    print('             ------------------------')\n",
    "    print('           B |   ',array[1][0],'   |    ', array[1][1])\n",
    "    print('\\nModel Accuracy', accuracy_score(Y, P)*100)\n",
    "    print('Model F1', f1_score(Y, P)*100)\n",
    "    return None"
   ]
  },
  {
   "cell_type": "code",
   "execution_count": 25,
   "id": "0c6df5f5",
   "metadata": {},
   "outputs": [],
   "source": [
    "def model_eval(Y, P):\n",
    "    print('\\033[1m'+'\\033[91m'+'      Logistics Regression\\n'+'\\033[0m')\n",
    "    array = confusion_matrix(Y, P)\n",
    "    print('             Predicted Labels')\n",
    "    print('             |      A     |     B')    \n",
    "    print('             ------------------------')\n",
    "    print('True label A |   ',array[0][0],'  |    ', array[0][1])\n",
    "    print('             ------------------------')\n",
    "    print('           B |   ',array[1][0],'   |    ', array[1][1])\n",
    "    print('\\nModel Accuracy', accuracy_score(Y, P)*100)\n",
    "    print('Model F1', f1_score(Y, P)*100)\n",
    "    return None"
   ]
  },
  {
   "cell_type": "code",
   "execution_count": 27,
   "id": "76bf9416",
   "metadata": {},
   "outputs": [],
   "source": [
    "s_data = pd.concat([X_train_scaled, y_train], axis = 1)\n",
    "cat_1 = s_data[s_data['TARGET_B'] == 1]\n",
    "cat_0 = s_data[s_data['TARGET_B'] == 0]"
   ]
  },
  {
   "cell_type": "code",
   "execution_count": 28,
   "id": "0928a1c3",
   "metadata": {},
   "outputs": [],
   "source": [
    "cat_0_undersampled = resample(cat_0, replace=False, n_samples = len(cat_1))\n",
    "s_data_downsampled = pd.concat([cat_0_undersampled, cat_1], axis=0)"
   ]
  },
  {
   "cell_type": "code",
   "execution_count": 29,
   "id": "498a189f",
   "metadata": {},
   "outputs": [
    {
     "data": {
      "text/plain": [
       "(7284, 413)"
      ]
     },
     "execution_count": 29,
     "metadata": {},
     "output_type": "execute_result"
    }
   ],
   "source": [
    "s_data_downsampled.shape\n"
   ]
  },
  {
   "cell_type": "code",
   "execution_count": 30,
   "id": "451c909d",
   "metadata": {},
   "outputs": [
    {
     "name": "stderr",
     "output_type": "stream",
     "text": [
      "/Users/vascoreis/opt/anaconda3/lib/python3.9/site-packages/sklearn/linear_model/_sag.py:352: ConvergenceWarning: The max_iter was reached which means the coef_ did not converge\n",
      "  warnings.warn(\n"
     ]
    },
    {
     "name": "stdout",
     "output_type": "stream",
     "text": [
      "\u001b[1m\u001b[91m      Logistics Regression\n",
      "\u001b[0m\n",
      "             Predicted Labels\n",
      "             |      A     |     B\n",
      "             ------------------------\n",
      "True label A |    13149   |     9503\n",
      "             ------------------------\n",
      "           B |    544    |     657\n",
      "\n",
      "Model Accuracy 57.87951201106779\n",
      "Model F1 11.565883284922105\n"
     ]
    }
   ],
   "source": [
    "X_down = s_data_downsampled.drop(columns=['TARGET_B'])\n",
    "y_down = s_data_downsampled['TARGET_B']\n",
    "\n",
    "predicted = model(X_down, y_down, X_test_scaled)\n",
    "model_eval(y_test, predicted)"
   ]
  },
  {
   "cell_type": "code",
   "execution_count": 31,
   "id": "43cd74e1",
   "metadata": {},
   "outputs": [],
   "source": [
    "cat_1_upsampled = resample(cat_1, replace=True, n_samples = len(cat_0))\n",
    "s_data_upsampled = pd.concat([cat_1_upsampled, cat_0], axis=0)"
   ]
  },
  {
   "cell_type": "code",
   "execution_count": 32,
   "id": "34641bff",
   "metadata": {},
   "outputs": [
    {
     "data": {
      "text/plain": [
       "(135834, 413)"
      ]
     },
     "execution_count": 32,
     "metadata": {},
     "output_type": "execute_result"
    }
   ],
   "source": [
    "s_data_upsampled.shape\n"
   ]
  },
  {
   "cell_type": "code",
   "execution_count": null,
   "id": "0deaf61f",
   "metadata": {},
   "outputs": [],
   "source": [
    "X_up = s_data_upsampled.drop(columns=['TARGET_B'])\n",
    "y_up = s_data_upsampled['TARGET_B']\n",
    "\n",
    "predicted = model(X_up, y_up, X_test_scaled)\n",
    "model_eval(y_test, predicted)"
   ]
  },
  {
   "cell_type": "code",
   "execution_count": null,
   "id": "0ad4883c",
   "metadata": {},
   "outputs": [],
   "source": [
    "X_smote = s_data.drop(columns=['TARGET_B'])\n",
    "y_smote = s_data['TARGET_B']\n",
    "\n",
    "smote = SMOTE(random_state=100, k_neighbors=3)\n",
    "X_S,y_S = smote.fit_resample(X_smote,y_smote)\n",
    "\n",
    "predicted = model(X_S, y_S, X_test_scaled)\n",
    "model_eval(y_test, predicted)"
   ]
  },
  {
   "cell_type": "code",
   "execution_count": null,
   "id": "25b12ad7",
   "metadata": {},
   "outputs": [],
   "source": []
  }
 ],
 "metadata": {
  "kernelspec": {
   "display_name": "Python 3 (ipykernel)",
   "language": "python",
   "name": "python3"
  },
  "language_info": {
   "codemirror_mode": {
    "name": "ipython",
    "version": 3
   },
   "file_extension": ".py",
   "mimetype": "text/x-python",
   "name": "python",
   "nbconvert_exporter": "python",
   "pygments_lexer": "ipython3",
   "version": "3.9.13"
  }
 },
 "nbformat": 4,
 "nbformat_minor": 5
}
