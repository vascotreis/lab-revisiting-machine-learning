{
 "cells": [
  {
   "cell_type": "code",
   "execution_count": 2,
   "id": "7144f36f",
   "metadata": {},
   "outputs": [],
   "source": [
    "# import usefull libraries\n",
    "import pandas as pd\n",
    "import numpy as np\n",
    "import datetime\n",
    "import matplotlib.pyplot as plt\n",
    "import seaborn as sns\n",
    "\n",
    "# hide all the warnings\n",
    "import warnings\n",
    "warnings.filterwarnings('ignore')\n"
   ]
  },
  {
   "cell_type": "code",
   "execution_count": 3,
   "id": "11e28abc-6826-476c-9f0e-fc81ba630784",
   "metadata": {},
   "outputs": [
    {
     "name": "stdout",
     "output_type": "stream",
     "text": [
      "Null values in columns:\n",
      "ODATEDW       0\n",
      "OSOURCE       0\n",
      "TCODE         0\n",
      "STATE         0\n",
      "ZIP           0\n",
      "           ... \n",
      "MDMAUD_R      0\n",
      "MDMAUD_F      0\n",
      "MDMAUD_A      0\n",
      "CLUSTER2    132\n",
      "GEOCODE2    132\n",
      "Length: 481, dtype: int64\n"
     ]
    }
   ],
   "source": [
    "# Load the data\n",
    "df = pd.read_csv(\"learningSet.csv\")\n",
    "\n",
    "# Check for null values in all columns\n",
    "print(\"Null values in columns:\")\n",
    "print(df.isnull().sum())"
   ]
  },
  {
   "cell_type": "code",
   "execution_count": 5,
   "id": "3fd6a860-7f46-47b4-8a9a-0911d10c1875",
   "metadata": {},
   "outputs": [],
   "source": [
    "# Create the drop_list\n",
    "drop_list = ['OSOURCE', 'ZIP']\n",
    "\n",
    "# Drop the columns in the drop_list\n",
    "df.drop(columns=drop_list, inplace=True)"
   ]
  },
  {
   "cell_type": "code",
   "execution_count": 7,
   "id": "4d90953c-7ebc-41ad-b337-438095836fb8",
   "metadata": {},
   "outputs": [
    {
     "name": "stdout",
     "output_type": "stream",
     "text": [
      "['NUMCHLD', 'RDATE_3', 'RDATE_4', 'RDATE_5', 'RDATE_6', 'RDATE_7', 'RDATE_10', 'RDATE_13', 'RDATE_15', 'RDATE_17', 'RDATE_20', 'RDATE_21', 'RDATE_23', 'RAMNT_3', 'RAMNT_4', 'RAMNT_5', 'RAMNT_6', 'RAMNT_7', 'RAMNT_10', 'RAMNT_13', 'RAMNT_15', 'RAMNT_17', 'RAMNT_20', 'RAMNT_21', 'RAMNT_23']\n"
     ]
    }
   ],
   "source": [
    "# Identify columns with over 85% missing values\n",
    "missing_threshold = 0.85 * df.shape[0]\n",
    "missing_cols = [col for col in df.columns if df[col].isnull().sum() >= missing_threshold]\n",
    "print(missing_cols)"
   ]
  },
  {
   "cell_type": "code",
   "execution_count": 8,
   "id": "e1227c0d-a35f-4702-89a0-cc5032c7921e",
   "metadata": {},
   "outputs": [],
   "source": [
    "# Drop columns with over 85% missing values\n",
    "df.drop(columns=missing_cols, inplace=True)"
   ]
  },
  {
   "cell_type": "code",
   "execution_count": 11,
   "id": "825da882-730d-44bf-a081-74871d396a6a",
   "metadata": {},
   "outputs": [
    {
     "name": "stdout",
     "output_type": "stream",
     "text": [
      "GENDER categories before reducing:\n",
      "F    51277\n",
      "M    39094\n",
      "      2957\n",
      "U     1715\n",
      "J      365\n",
      "C        2\n",
      "A        2\n",
      "Name: GENDER, dtype: int64\n"
     ]
    }
   ],
   "source": [
    "# Reduce the number of categories in the column GENDER\n",
    "categorical = df[['GENDER']]\n",
    "print(\"GENDER categories before reducing:\")\n",
    "print(categorical['GENDER'].value_counts())"
   ]
  },
  {
   "cell_type": "code",
   "execution_count": 13,
   "id": "f63ae4ac-8412-4f49-a2bf-8e086764732e",
   "metadata": {},
   "outputs": [
    {
     "name": "stdout",
     "output_type": "stream",
     "text": [
      "GENDER categories after reducing:\n",
      "F        51277\n",
      "M        39094\n",
      "OTHER     5041\n",
      "Name: GENDER, dtype: int64\n"
     ]
    }
   ],
   "source": [
    "# Replace missing values with female\n",
    "categorical['GENDER'] = categorical['GENDER'].fillna('F')\n",
    "\n",
    "# replace the other caracters with OTHER\n",
    "categorical['GENDER'] = categorical['GENDER'].replace([\" \", \"U\", \"J\", \"C\", \"A\"],'OTHER')\n",
    "\n",
    "print(\"GENDER categories after reducing:\")\n",
    "print(categorical['GENDER'].value_counts())"
   ]
  },
  {
   "cell_type": "code",
   "execution_count": 14,
   "id": "ba20fbe1-abda-4c26-a8fb-a94e1732d06b",
   "metadata": {},
   "outputs": [],
   "source": [
    "# get the modifications to the original dataset\n",
    "\n",
    "df['GENDER'] = categorical['GENDER']"
   ]
  }
 ],
 "metadata": {
  "kernelspec": {
   "display_name": "Python 3 (ipykernel)",
   "language": "python",
   "name": "python3"
  },
  "language_info": {
   "codemirror_mode": {
    "name": "ipython",
    "version": 3
   },
   "file_extension": ".py",
   "mimetype": "text/x-python",
   "name": "python",
   "nbconvert_exporter": "python",
   "pygments_lexer": "ipython3",
   "version": "3.9.13"
  }
 },
 "nbformat": 4,
 "nbformat_minor": 5
}
