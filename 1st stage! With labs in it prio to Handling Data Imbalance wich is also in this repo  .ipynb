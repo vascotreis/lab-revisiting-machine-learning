{
 "cells": [
  {
   "cell_type": "code",
   "execution_count": 1,
   "id": "73c7d0e7-6315-4802-ad7a-3469948f5811",
   "metadata": {},
   "outputs": [
    {
     "name": "stderr",
     "output_type": "stream",
     "text": [
      "C:\\Users\\HP\\AppData\\Local\\Temp\\ipykernel_17720\\3021907324.py:8: DtypeWarning: Columns (8) have mixed types. Specify dtype option on import or set low_memory=False.\n",
      "  df = pd.read_csv('learningSet.csv')\n"
     ]
    },
    {
     "name": "stdout",
     "output_type": "stream",
     "text": [
      "Dataframe Shape: (95412, 481)\n",
      "\n",
      "First 5 rows of the Dataframe:\n"
     ]
    },
    {
     "data": {
      "text/html": [
       "<div>\n",
       "<style scoped>\n",
       "    .dataframe tbody tr th:only-of-type {\n",
       "        vertical-align: middle;\n",
       "    }\n",
       "\n",
       "    .dataframe tbody tr th {\n",
       "        vertical-align: top;\n",
       "    }\n",
       "\n",
       "    .dataframe thead th {\n",
       "        text-align: right;\n",
       "    }\n",
       "</style>\n",
       "<table border=\"1\" class=\"dataframe\">\n",
       "  <thead>\n",
       "    <tr style=\"text-align: right;\">\n",
       "      <th></th>\n",
       "      <th>ODATEDW</th>\n",
       "      <th>OSOURCE</th>\n",
       "      <th>TCODE</th>\n",
       "      <th>STATE</th>\n",
       "      <th>ZIP</th>\n",
       "      <th>MAILCODE</th>\n",
       "      <th>PVASTATE</th>\n",
       "      <th>DOB</th>\n",
       "      <th>NOEXCH</th>\n",
       "      <th>RECINHSE</th>\n",
       "      <th>...</th>\n",
       "      <th>TARGET_D</th>\n",
       "      <th>HPHONE_D</th>\n",
       "      <th>RFA_2R</th>\n",
       "      <th>RFA_2F</th>\n",
       "      <th>RFA_2A</th>\n",
       "      <th>MDMAUD_R</th>\n",
       "      <th>MDMAUD_F</th>\n",
       "      <th>MDMAUD_A</th>\n",
       "      <th>CLUSTER2</th>\n",
       "      <th>GEOCODE2</th>\n",
       "    </tr>\n",
       "  </thead>\n",
       "  <tbody>\n",
       "    <tr>\n",
       "      <th>0</th>\n",
       "      <td>8901</td>\n",
       "      <td>GRI</td>\n",
       "      <td>0</td>\n",
       "      <td>IL</td>\n",
       "      <td>61081</td>\n",
       "      <td></td>\n",
       "      <td></td>\n",
       "      <td>3712</td>\n",
       "      <td>0</td>\n",
       "      <td></td>\n",
       "      <td>...</td>\n",
       "      <td>0.0</td>\n",
       "      <td>0</td>\n",
       "      <td>L</td>\n",
       "      <td>4</td>\n",
       "      <td>E</td>\n",
       "      <td>X</td>\n",
       "      <td>X</td>\n",
       "      <td>X</td>\n",
       "      <td>39.0</td>\n",
       "      <td>C</td>\n",
       "    </tr>\n",
       "    <tr>\n",
       "      <th>1</th>\n",
       "      <td>9401</td>\n",
       "      <td>BOA</td>\n",
       "      <td>1</td>\n",
       "      <td>CA</td>\n",
       "      <td>91326</td>\n",
       "      <td></td>\n",
       "      <td></td>\n",
       "      <td>5202</td>\n",
       "      <td>0</td>\n",
       "      <td></td>\n",
       "      <td>...</td>\n",
       "      <td>0.0</td>\n",
       "      <td>0</td>\n",
       "      <td>L</td>\n",
       "      <td>2</td>\n",
       "      <td>G</td>\n",
       "      <td>X</td>\n",
       "      <td>X</td>\n",
       "      <td>X</td>\n",
       "      <td>1.0</td>\n",
       "      <td>A</td>\n",
       "    </tr>\n",
       "    <tr>\n",
       "      <th>2</th>\n",
       "      <td>9001</td>\n",
       "      <td>AMH</td>\n",
       "      <td>1</td>\n",
       "      <td>NC</td>\n",
       "      <td>27017</td>\n",
       "      <td></td>\n",
       "      <td></td>\n",
       "      <td>0</td>\n",
       "      <td>0</td>\n",
       "      <td></td>\n",
       "      <td>...</td>\n",
       "      <td>0.0</td>\n",
       "      <td>1</td>\n",
       "      <td>L</td>\n",
       "      <td>4</td>\n",
       "      <td>E</td>\n",
       "      <td>X</td>\n",
       "      <td>X</td>\n",
       "      <td>X</td>\n",
       "      <td>60.0</td>\n",
       "      <td>C</td>\n",
       "    </tr>\n",
       "    <tr>\n",
       "      <th>3</th>\n",
       "      <td>8701</td>\n",
       "      <td>BRY</td>\n",
       "      <td>0</td>\n",
       "      <td>CA</td>\n",
       "      <td>95953</td>\n",
       "      <td></td>\n",
       "      <td></td>\n",
       "      <td>2801</td>\n",
       "      <td>0</td>\n",
       "      <td></td>\n",
       "      <td>...</td>\n",
       "      <td>0.0</td>\n",
       "      <td>1</td>\n",
       "      <td>L</td>\n",
       "      <td>4</td>\n",
       "      <td>E</td>\n",
       "      <td>X</td>\n",
       "      <td>X</td>\n",
       "      <td>X</td>\n",
       "      <td>41.0</td>\n",
       "      <td>C</td>\n",
       "    </tr>\n",
       "    <tr>\n",
       "      <th>4</th>\n",
       "      <td>8601</td>\n",
       "      <td></td>\n",
       "      <td>0</td>\n",
       "      <td>FL</td>\n",
       "      <td>33176</td>\n",
       "      <td></td>\n",
       "      <td></td>\n",
       "      <td>2001</td>\n",
       "      <td>0</td>\n",
       "      <td>X</td>\n",
       "      <td>...</td>\n",
       "      <td>0.0</td>\n",
       "      <td>1</td>\n",
       "      <td>L</td>\n",
       "      <td>2</td>\n",
       "      <td>F</td>\n",
       "      <td>X</td>\n",
       "      <td>X</td>\n",
       "      <td>X</td>\n",
       "      <td>26.0</td>\n",
       "      <td>A</td>\n",
       "    </tr>\n",
       "  </tbody>\n",
       "</table>\n",
       "<p>5 rows × 481 columns</p>\n",
       "</div>"
      ],
      "text/plain": [
       "   ODATEDW OSOURCE  TCODE STATE    ZIP MAILCODE PVASTATE   DOB NOEXCH  \\\n",
       "0     8901     GRI      0    IL  61081                    3712      0   \n",
       "1     9401     BOA      1    CA  91326                    5202      0   \n",
       "2     9001     AMH      1    NC  27017                       0      0   \n",
       "3     8701     BRY      0    CA  95953                    2801      0   \n",
       "4     8601              0    FL  33176                    2001      0   \n",
       "\n",
       "  RECINHSE  ... TARGET_D HPHONE_D RFA_2R RFA_2F RFA_2A MDMAUD_R  MDMAUD_F  \\\n",
       "0           ...      0.0        0      L      4      E        X         X   \n",
       "1           ...      0.0        0      L      2      G        X         X   \n",
       "2           ...      0.0        1      L      4      E        X         X   \n",
       "3           ...      0.0        1      L      4      E        X         X   \n",
       "4        X  ...      0.0        1      L      2      F        X         X   \n",
       "\n",
       "  MDMAUD_A CLUSTER2 GEOCODE2  \n",
       "0        X     39.0        C  \n",
       "1        X      1.0        A  \n",
       "2        X     60.0        C  \n",
       "3        X     41.0        C  \n",
       "4        X     26.0        A  \n",
       "\n",
       "[5 rows x 481 columns]"
      ]
     },
     "execution_count": 1,
     "metadata": {},
     "output_type": "execute_result"
    }
   ],
   "source": [
    "#Importing necessary libraries\n",
    "import pandas as pd\n",
    "import numpy as np\n",
    "import matplotlib.pyplot as plt\n",
    "import seaborn as sns\n",
    "\n",
    "#Load the data into a pandas dataframe\n",
    "df = pd.read_csv('learningSet.csv')\n",
    "\n",
    "#Check the shape of the dataframe\n",
    "print(\"Dataframe Shape:\", df.shape)\n",
    "\n",
    "#Show the first five rows of the dataframe\n",
    "print(\"\\nFirst 5 rows of the Dataframe:\")\n",
    "df.head()"
   ]
  },
  {
   "cell_type": "code",
   "execution_count": 2,
   "id": "73a23a81-0e2b-4c41-a0b1-fbc5318f4623",
   "metadata": {},
   "outputs": [
    {
     "name": "stdout",
     "output_type": "stream",
     "text": [
      "\n",
      "Unique values count in 'TARGET_B':\n",
      "0    90569\n",
      "1     4843\n",
      "Name: TARGET_B, dtype: int64\n"
     ]
    }
   ],
   "source": [
    "#Check the number of unique values in the target column 'TARGET_B'\n",
    "print(\"\\nUnique values count in 'TARGET_B':\")\n",
    "print(df['TARGET_B'].value_counts())"
   ]
  },
  {
   "cell_type": "code",
   "execution_count": 3,
   "id": "6e2b67bb-e5d0-4bea-86ba-ba39c9b9b9c7",
   "metadata": {},
   "outputs": [
    {
     "name": "stdout",
     "output_type": "stream",
     "text": [
      "\n",
      "Summary of 'TARGET_D':\n",
      "count    95412.000000\n",
      "mean         0.793073\n",
      "std          4.429725\n",
      "min          0.000000\n",
      "25%          0.000000\n",
      "50%          0.000000\n",
      "75%          0.000000\n",
      "max        200.000000\n",
      "Name: TARGET_D, dtype: float64\n"
     ]
    }
   ],
   "source": [
    "#Get a summary of the target column 'TARGET_D'\n",
    "print(\"\\nSummary of 'TARGET_D':\")\n",
    "print(df['TARGET_D'].describe())"
   ]
  },
  {
   "cell_type": "code",
   "execution_count": 4,
   "id": "8f999ff8-6798-44cf-a2db-708d498b478f",
   "metadata": {},
   "outputs": [
    {
     "name": "stdout",
     "output_type": "stream",
     "text": [
      "\n",
      "Summary of 'TARGET_D' where 'TARGET_B' is greater than 0:\n",
      "count    4843.000000\n",
      "mean       15.624344\n",
      "std        12.445137\n",
      "min         1.000000\n",
      "25%        10.000000\n",
      "50%        13.000000\n",
      "75%        20.000000\n",
      "max       200.000000\n",
      "Name: TARGET_D, dtype: float64\n"
     ]
    }
   ],
   "source": [
    "#Get a summary of the target column 'TARGET_D' for the rows where 'TARGET_B' is greater than 0\n",
    "print(\"\\nSummary of 'TARGET_D' where 'TARGET_B' is greater than 0:\")\n",
    "print(df[df['TARGET_B'] > 0]['TARGET_D'].describe())"
   ]
  },
  {
   "cell_type": "markdown",
   "id": "5928a013",
   "metadata": {},
   "source": [
    "To solve this problem we will first build a classification model to predict who will more likely respond and then for those respondents, we will build a regression model to predict the donation amount.\n",
    "\n",
    "Then we can use the cost matrix to calculate the total benefit from the donations"
   ]
  },
  {
   "cell_type": "markdown",
   "id": "6540c8cb",
   "metadata": {},
   "source": [
    "# 7.01 "
   ]
  },
  {
   "cell_type": "code",
   "execution_count": 5,
   "id": "0445cf68-eafc-4434-8510-18843dde626a",
   "metadata": {},
   "outputs": [
    {
     "name": "stdout",
     "output_type": "stream",
     "text": [
      "RDATE_5    99.990567\n",
      "RAMNT_5    99.990567\n",
      "RDATE_3    99.746363\n",
      "RAMNT_3    99.746363\n",
      "RDATE_4    99.705488\n",
      "             ...    \n",
      "ETHC3       0.000000\n",
      "ETHC2       0.000000\n",
      "ETHC1       0.000000\n",
      "HHD12       0.000000\n",
      "TPE11       0.000000\n",
      "Length: 481, dtype: float64\n"
     ]
    }
   ],
   "source": [
    "# calculate the percentage of missing values in each column\n",
    "missing_values_pct = (df.isnull().sum() / len(df)) * 100\n",
    "\n",
    "# sort the values and store the result in a new dataframe\n",
    "sorted_missing_values_pct = missing_values_pct.sort_values(ascending=False)\n",
    "\n",
    "# print the result\n",
    "print(sorted_missing_values_pct)"
   ]
  },
  {
   "cell_type": "code",
   "execution_count": 6,
   "id": "936e5695-e633-44bf-af92-3cf3520de581",
   "metadata": {},
   "outputs": [
    {
     "data": {
      "text/plain": [
       "RDATE_5     99.990567\n",
       "RAMNT_5     99.990567\n",
       "RAMNT_3     99.746363\n",
       "RDATE_3     99.746363\n",
       "RDATE_4     99.705488\n",
       "              ...    \n",
       "MSA          0.138347\n",
       "ADI          0.138347\n",
       "DMA          0.138347\n",
       "CLUSTER2     0.138347\n",
       "GEOCODE2     0.138347\n",
       "Length: 92, dtype: float64"
      ]
     },
     "execution_count": 6,
     "metadata": {},
     "output_type": "execute_result"
    }
   ],
   "source": [
    "# Filter the columns with missing values\n",
    "missing_vals_cols = missing_values_pct[missing_values_pct > 0].sort_values(ascending=False)\n",
    "missing_vals_cols"
   ]
  },
  {
   "cell_type": "code",
   "execution_count": 7,
   "id": "edb19c46-3d3e-415e-a945-c09767918b27",
   "metadata": {},
   "outputs": [],
   "source": [
    "# Create a list of columns to drop\n",
    "drop_cols = missing_values_pct[missing_values_pct > 0.25].index.tolist()\n",
    "\n",
    "# Remove the columns from the drop_cols list if they are 'WEALTH1' or 'WEALTH2'\n",
    "drop_cols = [col for col in drop_cols if col not in ['WEALTH1', 'WEALTH2']]\n",
    "\n",
    "# Drop the columns from the dataframe\n",
    "df = df.drop(columns=drop_cols)"
   ]
  },
  {
   "cell_type": "code",
   "execution_count": 8,
   "id": "a8d411df",
   "metadata": {},
   "outputs": [
    {
     "data": {
      "text/plain": [
       "['AGE',\n",
       " 'NUMCHLD',\n",
       " 'INCOME',\n",
       " 'WEALTH1',\n",
       " 'MBCRAFT',\n",
       " 'MBGARDEN',\n",
       " 'MBBOOKS',\n",
       " 'MBCOLECT',\n",
       " 'MAGFAML',\n",
       " 'MAGFEM',\n",
       " 'MAGMALE',\n",
       " 'PUBGARDN',\n",
       " 'PUBCULIN',\n",
       " 'PUBHLTH',\n",
       " 'PUBDOITY',\n",
       " 'PUBNEWFN',\n",
       " 'PUBPHOTO',\n",
       " 'PUBOPP',\n",
       " 'WEALTH2',\n",
       " 'ADATE_3',\n",
       " 'ADATE_4',\n",
       " 'ADATE_5',\n",
       " 'ADATE_6',\n",
       " 'ADATE_7',\n",
       " 'ADATE_8',\n",
       " 'ADATE_9',\n",
       " 'ADATE_10',\n",
       " 'ADATE_11',\n",
       " 'ADATE_12',\n",
       " 'ADATE_13',\n",
       " 'ADATE_14',\n",
       " 'ADATE_15',\n",
       " 'ADATE_16',\n",
       " 'ADATE_17',\n",
       " 'ADATE_18',\n",
       " 'ADATE_19',\n",
       " 'ADATE_20',\n",
       " 'ADATE_21',\n",
       " 'ADATE_22',\n",
       " 'ADATE_23',\n",
       " 'ADATE_24',\n",
       " 'RDATE_3',\n",
       " 'RDATE_4',\n",
       " 'RDATE_5',\n",
       " 'RDATE_6',\n",
       " 'RDATE_7',\n",
       " 'RDATE_8',\n",
       " 'RDATE_9',\n",
       " 'RDATE_10',\n",
       " 'RDATE_11',\n",
       " 'RDATE_12',\n",
       " 'RDATE_13',\n",
       " 'RDATE_14',\n",
       " 'RDATE_15',\n",
       " 'RDATE_16',\n",
       " 'RDATE_17',\n",
       " 'RDATE_18',\n",
       " 'RDATE_19',\n",
       " 'RDATE_20',\n",
       " 'RDATE_21',\n",
       " 'RDATE_22',\n",
       " 'RDATE_23',\n",
       " 'RDATE_24',\n",
       " 'RAMNT_3',\n",
       " 'RAMNT_4',\n",
       " 'RAMNT_5',\n",
       " 'RAMNT_6',\n",
       " 'RAMNT_7',\n",
       " 'RAMNT_8',\n",
       " 'RAMNT_9',\n",
       " 'RAMNT_10',\n",
       " 'RAMNT_11',\n",
       " 'RAMNT_12',\n",
       " 'RAMNT_13',\n",
       " 'RAMNT_14',\n",
       " 'RAMNT_15',\n",
       " 'RAMNT_16',\n",
       " 'RAMNT_17',\n",
       " 'RAMNT_18',\n",
       " 'RAMNT_19',\n",
       " 'RAMNT_20',\n",
       " 'RAMNT_21',\n",
       " 'RAMNT_22',\n",
       " 'RAMNT_23',\n",
       " 'RAMNT_24',\n",
       " 'NEXTDATE',\n",
       " 'TIMELAG']"
      ]
     },
     "execution_count": 8,
     "metadata": {},
     "output_type": "execute_result"
    }
   ],
   "source": [
    "# list of the columns with missing values over 25% of the dataset\n",
    "missing_values_pct[missing_values_pct > 0.25].index.tolist()"
   ]
  },
  {
   "cell_type": "markdown",
   "id": "0ba93d86",
   "metadata": {},
   "source": [
    " ## 7.01 Activity 2"
   ]
  },
  {
   "cell_type": "code",
   "execution_count": 9,
   "id": "035b187a",
   "metadata": {},
   "outputs": [
    {
     "data": {
      "text/plain": [
       "Index(['ODATEDW', 'OSOURCE', 'TCODE', 'STATE', 'ZIP', 'MAILCODE', 'PVASTATE',\n",
       "       'DOB', 'NOEXCH', 'RECINHSE',\n",
       "       ...\n",
       "       'TARGET_D', 'HPHONE_D', 'RFA_2R', 'RFA_2F', 'RFA_2A', 'MDMAUD_R',\n",
       "       'MDMAUD_F', 'MDMAUD_A', 'CLUSTER2', 'GEOCODE2'],\n",
       "      dtype='object', length=396)"
      ]
     },
     "execution_count": 9,
     "metadata": {},
     "output_type": "execute_result"
    }
   ],
   "source": [
    "# see the new number of columns after the cleaning regarding missing values we've made\n",
    "df.columns"
   ]
  },
  {
   "cell_type": "markdown",
   "id": "d17532ea",
   "metadata": {},
   "source": [
    "We can see that there are a lot of columns that have blank spaces which represent no value in this case."
   ]
  },
  {
   "cell_type": "code",
   "execution_count": 14,
   "id": "2aa416ce",
   "metadata": {},
   "outputs": [
    {
     "data": {
      "text/plain": [
       "     94013\n",
       "B     1399\n",
       "Name: MAILCODE, dtype: int64"
      ]
     },
     "execution_count": 14,
     "metadata": {},
     "output_type": "execute_result"
    }
   ],
   "source": [
    "# number of unique values in this column\n",
    "df['MAILCODE'].value_counts()"
   ]
  },
  {
   "cell_type": "code",
   "execution_count": 15,
   "id": "5aaa617d",
   "metadata": {},
   "outputs": [],
   "source": [
    "# replace the empty values with the value A\n",
    "df['MAILCODE'] = df['MAILCODE'].replace(' ', \"A\")"
   ]
  },
  {
   "cell_type": "code",
   "execution_count": 18,
   "id": "8a88304a-c1f2-4a58-86dc-ae0596955612",
   "metadata": {},
   "outputs": [
    {
     "data": {
      "text/plain": [
       "A    94013\n",
       "B     1399\n",
       "Name: MAILCODE, dtype: int64"
      ]
     },
     "execution_count": 18,
     "metadata": {},
     "output_type": "execute_result"
    }
   ],
   "source": [
    "# reshow the number of unique values in this column to check if something going wrong\n",
    "df['MAILCODE'].value_counts()"
   ]
  },
  {
   "cell_type": "markdown",
   "id": "ae6e5d0e",
   "metadata": {},
   "source": [
    "# 3"
   ]
  },
  {
   "cell_type": "markdown",
   "id": "9558b819",
   "metadata": {},
   "source": [
    "Separating Target, Numerical Features, and Categorical Features"
   ]
  },
  {
   "cell_type": "code",
   "execution_count": 26,
   "id": "23085995",
   "metadata": {},
   "outputs": [
    {
     "data": {
      "text/html": [
       "<div>\n",
       "<style scoped>\n",
       "    .dataframe tbody tr th:only-of-type {\n",
       "        vertical-align: middle;\n",
       "    }\n",
       "\n",
       "    .dataframe tbody tr th {\n",
       "        vertical-align: top;\n",
       "    }\n",
       "\n",
       "    .dataframe thead th {\n",
       "        text-align: right;\n",
       "    }\n",
       "</style>\n",
       "<table border=\"1\" class=\"dataframe\">\n",
       "  <thead>\n",
       "    <tr style=\"text-align: right;\">\n",
       "      <th></th>\n",
       "      <th>TARGET_B</th>\n",
       "      <th>TARGET_D</th>\n",
       "    </tr>\n",
       "  </thead>\n",
       "  <tbody>\n",
       "    <tr>\n",
       "      <th>0</th>\n",
       "      <td>0</td>\n",
       "      <td>0.0</td>\n",
       "    </tr>\n",
       "    <tr>\n",
       "      <th>1</th>\n",
       "      <td>0</td>\n",
       "      <td>0.0</td>\n",
       "    </tr>\n",
       "    <tr>\n",
       "      <th>2</th>\n",
       "      <td>0</td>\n",
       "      <td>0.0</td>\n",
       "    </tr>\n",
       "    <tr>\n",
       "      <th>3</th>\n",
       "      <td>0</td>\n",
       "      <td>0.0</td>\n",
       "    </tr>\n",
       "    <tr>\n",
       "      <th>4</th>\n",
       "      <td>0</td>\n",
       "      <td>0.0</td>\n",
       "    </tr>\n",
       "  </tbody>\n",
       "</table>\n",
       "</div>"
      ],
      "text/plain": [
       "   TARGET_B  TARGET_D\n",
       "0         0       0.0\n",
       "1         0       0.0\n",
       "2         0       0.0\n",
       "3         0       0.0\n",
       "4         0       0.0"
      ]
     },
     "execution_count": 26,
     "metadata": {},
     "output_type": "execute_result"
    }
   ],
   "source": [
    "Y = data[['TARGET_B', 'TARGET_D']]\n",
    "Y.head()"
   ]
  },
  {
   "cell_type": "code",
   "execution_count": 27,
   "id": "d3c8e336",
   "metadata": {},
   "outputs": [
    {
     "data": {
      "text/html": [
       "<div>\n",
       "<style scoped>\n",
       "    .dataframe tbody tr th:only-of-type {\n",
       "        vertical-align: middle;\n",
       "    }\n",
       "\n",
       "    .dataframe tbody tr th {\n",
       "        vertical-align: top;\n",
       "    }\n",
       "\n",
       "    .dataframe thead th {\n",
       "        text-align: right;\n",
       "    }\n",
       "</style>\n",
       "<table border=\"1\" class=\"dataframe\">\n",
       "  <thead>\n",
       "    <tr style=\"text-align: right;\">\n",
       "      <th></th>\n",
       "      <th>ODATEDW</th>\n",
       "      <th>TCODE</th>\n",
       "      <th>DOB</th>\n",
       "      <th>AGE</th>\n",
       "      <th>INCOME</th>\n",
       "      <th>WEALTH1</th>\n",
       "      <th>HIT</th>\n",
       "      <th>...</th>\n",
       "      <th>NEXTDATE</th>\n",
       "      <th>TIMELAG</th>\n",
       "      <th>AVGGIFT</th>\n",
       "      <th>CONTROLN</th>\n",
       "      <th>HPHONE_D</th>\n",
       "      <th>RFA_2F</th>\n",
       "      <th>CLUSTER2</th>\n",
       "    </tr>\n",
       "  </thead>\n",
       "  <tbody>\n",
       "    <tr>\n",
       "      <th>0</th>\n",
       "      <td>8901</td>\n",
       "      <td>0</td>\n",
       "      <td>3712</td>\n",
       "      <td>60.0</td>\n",
       "      <td>NaN</td>\n",
       "      <td>NaN</td>\n",
       "      <td>0</td>\n",
       "      <td>...</td>\n",
       "      <td>9003.0</td>\n",
       "      <td>4.0</td>\n",
       "      <td>7.741935</td>\n",
       "      <td>95515</td>\n",
       "      <td>0</td>\n",
       "      <td>4</td>\n",
       "      <td>39.0</td>\n",
       "    </tr>\n",
       "    <tr>\n",
       "      <th>1</th>\n",
       "      <td>9401</td>\n",
       "      <td>1</td>\n",
       "      <td>5202</td>\n",
       "      <td>46.0</td>\n",
       "      <td>6.0</td>\n",
       "      <td>9.0</td>\n",
       "      <td>16</td>\n",
       "      <td>...</td>\n",
       "      <td>9504.0</td>\n",
       "      <td>18.0</td>\n",
       "      <td>15.666667</td>\n",
       "      <td>148535</td>\n",
       "      <td>0</td>\n",
       "      <td>2</td>\n",
       "      <td>1.0</td>\n",
       "    </tr>\n",
       "    <tr>\n",
       "      <th>2</th>\n",
       "      <td>9001</td>\n",
       "      <td>1</td>\n",
       "      <td>0</td>\n",
       "      <td>NaN</td>\n",
       "      <td>3.0</td>\n",
       "      <td>1.0</td>\n",
       "      <td>2</td>\n",
       "      <td>...</td>\n",
       "      <td>9101.0</td>\n",
       "      <td>12.0</td>\n",
       "      <td>7.481481</td>\n",
       "      <td>15078</td>\n",
       "      <td>1</td>\n",
       "      <td>4</td>\n",
       "      <td>60.0</td>\n",
       "    </tr>\n",
       "    <tr>\n",
       "      <th>3</th>\n",
       "      <td>8701</td>\n",
       "      <td>0</td>\n",
       "      <td>2801</td>\n",
       "      <td>70.0</td>\n",
       "      <td>1.0</td>\n",
       "      <td>4.0</td>\n",
       "      <td>2</td>\n",
       "      <td>...</td>\n",
       "      <td>8711.0</td>\n",
       "      <td>9.0</td>\n",
       "      <td>6.812500</td>\n",
       "      <td>172556</td>\n",
       "      <td>1</td>\n",
       "      <td>4</td>\n",
       "      <td>41.0</td>\n",
       "    </tr>\n",
       "    <tr>\n",
       "      <th>4</th>\n",
       "      <td>8601</td>\n",
       "      <td>0</td>\n",
       "      <td>2001</td>\n",
       "      <td>78.0</td>\n",
       "      <td>3.0</td>\n",
       "      <td>2.0</td>\n",
       "      <td>60</td>\n",
       "      <td>...</td>\n",
       "      <td>8005.0</td>\n",
       "      <td>14.0</td>\n",
       "      <td>6.864865</td>\n",
       "      <td>7112</td>\n",
       "      <td>1</td>\n",
       "      <td>2</td>\n",
       "      <td>26.0</td>\n",
       "    </tr>\n",
       "  </tbody>\n",
       "</table>\n",
       "<p>5 rows × 335 columns</p>\n",
       "</div>"
      ],
      "text/plain": [
       "   ODATEDW  TCODE   DOB   AGE  INCOME  WEALTH1  HIT  ...  NEXTDATE  TIMELAG  \\\n",
       "0     8901      0  3712  60.0     NaN      NaN    0  ...    9003.0      4.0   \n",
       "1     9401      1  5202  46.0     6.0      9.0   16  ...    9504.0     18.0   \n",
       "2     9001      1     0   NaN     3.0      1.0    2  ...    9101.0     12.0   \n",
       "3     8701      0  2801  70.0     1.0      4.0    2  ...    8711.0      9.0   \n",
       "4     8601      0  2001  78.0     3.0      2.0   60  ...    8005.0     14.0   \n",
       "\n",
       "     AVGGIFT  CONTROLN  HPHONE_D  RFA_2F  CLUSTER2  \n",
       "0   7.741935     95515         0       4      39.0  \n",
       "1  15.666667    148535         0       2       1.0  \n",
       "2   7.481481     15078         1       4      60.0  \n",
       "3   6.812500    172556         1       4      41.0  \n",
       "4   6.864865      7112         1       2      26.0  \n",
       "\n",
       "[5 rows x 335 columns]"
      ]
     },
     "execution_count": 27,
     "metadata": {},
     "output_type": "execute_result"
    }
   ],
   "source": [
    "numerical = data.select_dtypes(np.number)\n",
    "numerical = numerical.drop(columns = ['TARGET_B', 'TARGET_D'])\n",
    "numerical.head()"
   ]
  },
  {
   "cell_type": "code",
   "execution_count": 28,
   "id": "b11adf1c",
   "metadata": {},
   "outputs": [
    {
     "data": {
      "text/plain": [
       "(95412, 335)"
      ]
     },
     "execution_count": 28,
     "metadata": {},
     "output_type": "execute_result"
    }
   ],
   "source": [
    "numerical.shape\n"
   ]
  },
  {
   "cell_type": "code",
   "execution_count": 29,
   "id": "cf9fc107",
   "metadata": {},
   "outputs": [
    {
     "data": {
      "text/html": [
       "<div>\n",
       "<style scoped>\n",
       "    .dataframe tbody tr th:only-of-type {\n",
       "        vertical-align: middle;\n",
       "    }\n",
       "\n",
       "    .dataframe tbody tr th {\n",
       "        vertical-align: top;\n",
       "    }\n",
       "\n",
       "    .dataframe thead th {\n",
       "        text-align: right;\n",
       "    }\n",
       "</style>\n",
       "<table border=\"1\" class=\"dataframe\">\n",
       "  <thead>\n",
       "    <tr style=\"text-align: right;\">\n",
       "      <th></th>\n",
       "      <th>OSOURCE</th>\n",
       "      <th>STATE</th>\n",
       "      <th>ZIP</th>\n",
       "      <th>MAILCODE</th>\n",
       "      <th>NOEXCH</th>\n",
       "      <th>MDMAUD</th>\n",
       "      <th>DOMAIN</th>\n",
       "      <th>...</th>\n",
       "      <th>RFA_18</th>\n",
       "      <th>RFA_2R</th>\n",
       "      <th>RFA_2A</th>\n",
       "      <th>MDMAUD_R</th>\n",
       "      <th>MDMAUD_F</th>\n",
       "      <th>MDMAUD_A</th>\n",
       "      <th>GEOCODE2</th>\n",
       "    </tr>\n",
       "  </thead>\n",
       "  <tbody>\n",
       "    <tr>\n",
       "      <th>0</th>\n",
       "      <td>GRI</td>\n",
       "      <td>IL</td>\n",
       "      <td>61081</td>\n",
       "      <td>A</td>\n",
       "      <td>0</td>\n",
       "      <td>XXXX</td>\n",
       "      <td>T2</td>\n",
       "      <td>...</td>\n",
       "      <td>S4E</td>\n",
       "      <td>L</td>\n",
       "      <td>E</td>\n",
       "      <td>X</td>\n",
       "      <td>X</td>\n",
       "      <td>X</td>\n",
       "      <td>C</td>\n",
       "    </tr>\n",
       "    <tr>\n",
       "      <th>1</th>\n",
       "      <td>BOA</td>\n",
       "      <td>CA</td>\n",
       "      <td>91326</td>\n",
       "      <td>A</td>\n",
       "      <td>0</td>\n",
       "      <td>XXXX</td>\n",
       "      <td>S1</td>\n",
       "      <td>...</td>\n",
       "      <td>NaN</td>\n",
       "      <td>L</td>\n",
       "      <td>G</td>\n",
       "      <td>X</td>\n",
       "      <td>X</td>\n",
       "      <td>X</td>\n",
       "      <td>A</td>\n",
       "    </tr>\n",
       "    <tr>\n",
       "      <th>2</th>\n",
       "      <td>AMH</td>\n",
       "      <td>NC</td>\n",
       "      <td>27017</td>\n",
       "      <td>A</td>\n",
       "      <td>0</td>\n",
       "      <td>XXXX</td>\n",
       "      <td>R2</td>\n",
       "      <td>...</td>\n",
       "      <td>S4D</td>\n",
       "      <td>L</td>\n",
       "      <td>E</td>\n",
       "      <td>X</td>\n",
       "      <td>X</td>\n",
       "      <td>X</td>\n",
       "      <td>C</td>\n",
       "    </tr>\n",
       "    <tr>\n",
       "      <th>3</th>\n",
       "      <td>BRY</td>\n",
       "      <td>CA</td>\n",
       "      <td>95953</td>\n",
       "      <td>A</td>\n",
       "      <td>0</td>\n",
       "      <td>XXXX</td>\n",
       "      <td>R2</td>\n",
       "      <td>...</td>\n",
       "      <td>S2D</td>\n",
       "      <td>L</td>\n",
       "      <td>E</td>\n",
       "      <td>X</td>\n",
       "      <td>X</td>\n",
       "      <td>X</td>\n",
       "      <td>C</td>\n",
       "    </tr>\n",
       "    <tr>\n",
       "      <th>4</th>\n",
       "      <td>NaN</td>\n",
       "      <td>FL</td>\n",
       "      <td>33176</td>\n",
       "      <td>A</td>\n",
       "      <td>0</td>\n",
       "      <td>XXXX</td>\n",
       "      <td>S2</td>\n",
       "      <td>...</td>\n",
       "      <td>A2D</td>\n",
       "      <td>L</td>\n",
       "      <td>F</td>\n",
       "      <td>X</td>\n",
       "      <td>X</td>\n",
       "      <td>X</td>\n",
       "      <td>A</td>\n",
       "    </tr>\n",
       "  </tbody>\n",
       "</table>\n",
       "<p>5 rows × 31 columns</p>\n",
       "</div>"
      ],
      "text/plain": [
       "  OSOURCE STATE    ZIP MAILCODE NOEXCH MDMAUD DOMAIN  ... RFA_18 RFA_2R  \\\n",
       "0     GRI    IL  61081        A      0   XXXX     T2  ...    S4E      L   \n",
       "1     BOA    CA  91326        A      0   XXXX     S1  ...    NaN      L   \n",
       "2     AMH    NC  27017        A      0   XXXX     R2  ...    S4D      L   \n",
       "3     BRY    CA  95953        A      0   XXXX     R2  ...    S2D      L   \n",
       "4     NaN    FL  33176        A      0   XXXX     S2  ...    A2D      L   \n",
       "\n",
       "  RFA_2A MDMAUD_R MDMAUD_F MDMAUD_A GEOCODE2  \n",
       "0      E        X        X        X        C  \n",
       "1      G        X        X        X        A  \n",
       "2      E        X        X        X        C  \n",
       "3      E        X        X        X        C  \n",
       "4      F        X        X        X        A  \n",
       "\n",
       "[5 rows x 31 columns]"
      ]
     },
     "execution_count": 29,
     "metadata": {},
     "output_type": "execute_result"
    }
   ],
   "source": [
    "categorical = data.select_dtypes(object)\n",
    "categorical.head()"
   ]
  },
  {
   "cell_type": "markdown",
   "id": "289606a9",
   "metadata": {},
   "source": [
    "# Categorical "
   ]
  },
  {
   "cell_type": "code",
   "execution_count": 30,
   "id": "b93d0d37",
   "metadata": {},
   "outputs": [
    {
     "data": {
      "text/plain": [
       "OSOURCE      0.972624\n",
       "STATE        0.000000\n",
       "ZIP          0.000000\n",
       "MAILCODE     0.000000\n",
       "NOEXCH       0.007337\n",
       "MDMAUD       0.000000\n",
       "DOMAIN       2.427368\n",
       "CLUSTER      2.427368\n",
       "HOMEOWNR    23.296860\n",
       "GENDER       3.099191\n",
       "DATASRCE    22.303274\n",
       "SOLIH       93.501866\n",
       "VETERANS    89.072653\n",
       "RFA_2        0.000000\n",
       "RFA_3        2.043768\n",
       "RFA_4        2.423175\n",
       "RFA_6        3.728043\n",
       "RFA_7        9.300717\n",
       "RFA_8        3.679831\n",
       "RFA_9       11.785729\n",
       "RFA_11      10.923154\n",
       "RFA_12       9.352073\n",
       "RFA_14      19.774242\n",
       "RFA_16      21.398776\n",
       "RFA_18      22.285457\n",
       "RFA_2R       0.000000\n",
       "RFA_2A       0.000000\n",
       "MDMAUD_R     0.000000\n",
       "MDMAUD_F     0.000000\n",
       "MDMAUD_A     0.000000\n",
       "GEOCODE2     0.334339\n",
       "dtype: float64"
      ]
     },
     "execution_count": 30,
     "metadata": {},
     "output_type": "execute_result"
    }
   ],
   "source": [
    "pd.set_option('display.max_rows', None)\n",
    "categorical.isna().sum()/len(categorical)*100"
   ]
  },
  {
   "cell_type": "markdown",
   "id": "c24d2815",
   "metadata": {},
   "source": [
    "Working with categorical columns\n"
   ]
  },
  {
   "cell_type": "code",
   "execution_count": 32,
   "id": "ea2a5f79",
   "metadata": {},
   "outputs": [],
   "source": [
    "df = pd.DataFrame(categorical['STATE'].value_counts()).reset_index()\n",
    "\n",
    "df.columns = ['state', 'count']\n",
    "other_states = df[df['count']<2500]['state'].to_list()\n",
    "\n",
    "def clean_state(x):\n",
    "    if x in other_states:\n",
    "        return 'other'\n",
    "    else:\n",
    "        return x\n",
    "    \n",
    "categorical['STATE'] = categorical['STATE'].apply(clean_state)"
   ]
  },
  {
   "cell_type": "code",
   "execution_count": 33,
   "id": "4b955457",
   "metadata": {},
   "outputs": [
    {
     "data": {
      "text/plain": [
       "other    30457\n",
       "CA       17343\n",
       "FL        8376\n",
       "TX        7535\n",
       "IL        6420\n",
       "MI        5654\n",
       "NC        4160\n",
       "WA        3577\n",
       "GA        3403\n",
       "IN        2980\n",
       "WI        2795\n",
       "MO        2712\n",
       "Name: STATE, dtype: int64"
      ]
     },
     "execution_count": 33,
     "metadata": {},
     "output_type": "execute_result"
    }
   ],
   "source": [
    "categorical['STATE'].value_counts()\n"
   ]
  },
  {
   "cell_type": "markdown",
   "id": "e1ce0eda",
   "metadata": {},
   "source": [
    "# 7.01 Lab | Revisiting Machine Learning Case Study"
   ]
  },
  {
   "cell_type": "code",
   "execution_count": 34,
   "id": "0d4d0701",
   "metadata": {},
   "outputs": [
    {
     "data": {
      "text/plain": [
       "OSOURCE     0.972624\n",
       "STATE       0.000000\n",
       "ZIP         0.000000\n",
       "MAILCODE    0.000000\n",
       "NOEXCH      0.007337\n",
       "              ...   \n",
       "RFA_2A      0.000000\n",
       "MDMAUD_R    0.000000\n",
       "MDMAUD_F    0.000000\n",
       "MDMAUD_A    0.000000\n",
       "GEOCODE2    0.334339\n",
       "Length: 31, dtype: float64"
      ]
     },
     "execution_count": 34,
     "metadata": {},
     "output_type": "execute_result"
    }
   ],
   "source": [
    "categorical.isna().sum()/len(categorical)*100\n",
    "\n"
   ]
  },
  {
   "cell_type": "code",
   "execution_count": 35,
   "id": "af2c9b76",
   "metadata": {},
   "outputs": [],
   "source": [
    "categorical = categorical.drop(columns= ['OSOURCE','ZIP'])\n"
   ]
  },
  {
   "cell_type": "code",
   "execution_count": 36,
   "id": "da3cf56e",
   "metadata": {},
   "outputs": [
    {
     "name": "stdout",
     "output_type": "stream",
     "text": [
      "F    51277\n",
      "M    39094\n",
      "U     1715\n",
      "J      365\n",
      "C        2\n",
      "A        2\n",
      "Name: GENDER, dtype: int64\n"
     ]
    }
   ],
   "source": [
    "print(categorical['GENDER'].value_counts())\n"
   ]
  },
  {
   "cell_type": "code",
   "execution_count": 37,
   "id": "08f84135",
   "metadata": {},
   "outputs": [],
   "source": [
    "categorical['GENDER'] = categorical['GENDER'].where((categorical['GENDER'] == 'M') | (categorical['GENDER'] == 'F'), 'OTHER')\n"
   ]
  },
  {
   "cell_type": "code",
   "execution_count": 38,
   "id": "d8e4eee5",
   "metadata": {},
   "outputs": [
    {
     "data": {
      "text/plain": [
       "F        51277\n",
       "M        39094\n",
       "OTHER     5041\n",
       "Name: GENDER, dtype: int64"
      ]
     },
     "execution_count": 38,
     "metadata": {},
     "output_type": "execute_result"
    }
   ],
   "source": [
    "categorical['GENDER'].value_counts()\n"
   ]
  },
  {
   "cell_type": "code",
   "execution_count": 39,
   "id": "82b6fe98",
   "metadata": {},
   "outputs": [
    {
     "name": "stdout",
     "output_type": "stream",
     "text": [
      "F        51277\n",
      "M        39094\n",
      "OTHER     5041\n",
      "Name: GENDER, dtype: int64\n"
     ]
    }
   ],
   "source": [
    "print(categorical['GENDER'].value_counts())\n"
   ]
  },
  {
   "cell_type": "code",
   "execution_count": 40,
   "id": "bd9cc832",
   "metadata": {},
   "outputs": [],
   "source": [
    "categorical['GENDER'] = categorical['GENDER'].where((categorical['GENDER'] == 'M') | (categorical['GENDER'] == 'F'), 'OTHER')\n"
   ]
  },
  {
   "cell_type": "code",
   "execution_count": 41,
   "id": "67e9db20",
   "metadata": {},
   "outputs": [
    {
     "data": {
      "text/plain": [
       "F        51277\n",
       "M        39094\n",
       "OTHER     5041\n",
       "Name: GENDER, dtype: int64"
      ]
     },
     "execution_count": 41,
     "metadata": {},
     "output_type": "execute_result"
    }
   ],
   "source": [
    "categorical['GENDER'].value_counts()"
   ]
  },
  {
   "cell_type": "markdown",
   "id": "57011d99",
   "metadata": {},
   "source": [
    "# 7.02"
   ]
  },
  {
   "cell_type": "code",
   "execution_count": 42,
   "id": "fed7e9ca",
   "metadata": {},
   "outputs": [
    {
     "data": {
      "text/plain": [
       "R2     13623\n",
       "T2     12369\n",
       "S1     11503\n",
       "S2      8530\n",
       "C2      8264\n",
       "       ...  \n",
       "NaN     2316\n",
       "T3      2176\n",
       "S3      1891\n",
       "U4      1804\n",
       "R1      1358\n",
       "Name: DOMAIN, Length: 17, dtype: int64"
      ]
     },
     "execution_count": 42,
     "metadata": {},
     "output_type": "execute_result"
    }
   ],
   "source": [
    "categorical['DOMAIN'].value_counts(dropna=False)\n"
   ]
  },
  {
   "cell_type": "code",
   "execution_count": 43,
   "id": "9c4338e8",
   "metadata": {},
   "outputs": [],
   "source": [
    "categorical['DOMAIN'] = categorical['DOMAIN'].fillna('R2')\n"
   ]
  },
  {
   "cell_type": "code",
   "execution_count": 44,
   "id": "6fafd914",
   "metadata": {},
   "outputs": [],
   "source": [
    "categorical['DOMAIN_A'] = categorical['DOMAIN'].str[:1]\n",
    "categorical['DOMAIN_B'] = categorical['DOMAIN'].str[1:2]"
   ]
  },
  {
   "cell_type": "code",
   "execution_count": 45,
   "id": "6c251045",
   "metadata": {},
   "outputs": [],
   "source": [
    "categorical = categorical.drop(columns=['DOMAIN'])\n"
   ]
  },
  {
   "cell_type": "code",
   "execution_count": 46,
   "id": "7c534182",
   "metadata": {},
   "outputs": [
    {
     "data": {
      "text/html": [
       "<div>\n",
       "<style scoped>\n",
       "    .dataframe tbody tr th:only-of-type {\n",
       "        vertical-align: middle;\n",
       "    }\n",
       "\n",
       "    .dataframe tbody tr th {\n",
       "        vertical-align: top;\n",
       "    }\n",
       "\n",
       "    .dataframe thead th {\n",
       "        text-align: right;\n",
       "    }\n",
       "</style>\n",
       "<table border=\"1\" class=\"dataframe\">\n",
       "  <thead>\n",
       "    <tr style=\"text-align: right;\">\n",
       "      <th></th>\n",
       "      <th>STATE</th>\n",
       "      <th>MAILCODE</th>\n",
       "      <th>NOEXCH</th>\n",
       "      <th>MDMAUD</th>\n",
       "      <th>CLUSTER</th>\n",
       "      <th>HOMEOWNR</th>\n",
       "      <th>GENDER</th>\n",
       "      <th>...</th>\n",
       "      <th>RFA_2A</th>\n",
       "      <th>MDMAUD_R</th>\n",
       "      <th>MDMAUD_F</th>\n",
       "      <th>MDMAUD_A</th>\n",
       "      <th>GEOCODE2</th>\n",
       "      <th>DOMAIN_A</th>\n",
       "      <th>DOMAIN_B</th>\n",
       "    </tr>\n",
       "  </thead>\n",
       "  <tbody>\n",
       "    <tr>\n",
       "      <th>0</th>\n",
       "      <td>IL</td>\n",
       "      <td>A</td>\n",
       "      <td>0</td>\n",
       "      <td>XXXX</td>\n",
       "      <td>36</td>\n",
       "      <td>NaN</td>\n",
       "      <td>F</td>\n",
       "      <td>...</td>\n",
       "      <td>E</td>\n",
       "      <td>X</td>\n",
       "      <td>X</td>\n",
       "      <td>X</td>\n",
       "      <td>C</td>\n",
       "      <td>T</td>\n",
       "      <td>2</td>\n",
       "    </tr>\n",
       "    <tr>\n",
       "      <th>1</th>\n",
       "      <td>CA</td>\n",
       "      <td>A</td>\n",
       "      <td>0</td>\n",
       "      <td>XXXX</td>\n",
       "      <td>14</td>\n",
       "      <td>H</td>\n",
       "      <td>M</td>\n",
       "      <td>...</td>\n",
       "      <td>G</td>\n",
       "      <td>X</td>\n",
       "      <td>X</td>\n",
       "      <td>X</td>\n",
       "      <td>A</td>\n",
       "      <td>S</td>\n",
       "      <td>1</td>\n",
       "    </tr>\n",
       "    <tr>\n",
       "      <th>2</th>\n",
       "      <td>NC</td>\n",
       "      <td>A</td>\n",
       "      <td>0</td>\n",
       "      <td>XXXX</td>\n",
       "      <td>43</td>\n",
       "      <td>U</td>\n",
       "      <td>M</td>\n",
       "      <td>...</td>\n",
       "      <td>E</td>\n",
       "      <td>X</td>\n",
       "      <td>X</td>\n",
       "      <td>X</td>\n",
       "      <td>C</td>\n",
       "      <td>R</td>\n",
       "      <td>2</td>\n",
       "    </tr>\n",
       "    <tr>\n",
       "      <th>3</th>\n",
       "      <td>CA</td>\n",
       "      <td>A</td>\n",
       "      <td>0</td>\n",
       "      <td>XXXX</td>\n",
       "      <td>44</td>\n",
       "      <td>U</td>\n",
       "      <td>F</td>\n",
       "      <td>...</td>\n",
       "      <td>E</td>\n",
       "      <td>X</td>\n",
       "      <td>X</td>\n",
       "      <td>X</td>\n",
       "      <td>C</td>\n",
       "      <td>R</td>\n",
       "      <td>2</td>\n",
       "    </tr>\n",
       "    <tr>\n",
       "      <th>4</th>\n",
       "      <td>FL</td>\n",
       "      <td>A</td>\n",
       "      <td>0</td>\n",
       "      <td>XXXX</td>\n",
       "      <td>16</td>\n",
       "      <td>H</td>\n",
       "      <td>F</td>\n",
       "      <td>...</td>\n",
       "      <td>F</td>\n",
       "      <td>X</td>\n",
       "      <td>X</td>\n",
       "      <td>X</td>\n",
       "      <td>A</td>\n",
       "      <td>S</td>\n",
       "      <td>2</td>\n",
       "    </tr>\n",
       "  </tbody>\n",
       "</table>\n",
       "<p>5 rows × 30 columns</p>\n",
       "</div>"
      ],
      "text/plain": [
       "  STATE MAILCODE NOEXCH MDMAUD CLUSTER HOMEOWNR GENDER  ... RFA_2A MDMAUD_R  \\\n",
       "0    IL        A      0   XXXX      36      NaN      F  ...      E        X   \n",
       "1    CA        A      0   XXXX      14        H      M  ...      G        X   \n",
       "2    NC        A      0   XXXX      43        U      M  ...      E        X   \n",
       "3    CA        A      0   XXXX      44        U      F  ...      E        X   \n",
       "4    FL        A      0   XXXX      16        H      F  ...      F        X   \n",
       "\n",
       "  MDMAUD_F MDMAUD_A GEOCODE2 DOMAIN_A DOMAIN_B  \n",
       "0        X        X        C        T        2  \n",
       "1        X        X        A        S        1  \n",
       "2        X        X        C        R        2  \n",
       "3        X        X        C        R        2  \n",
       "4        X        X        A        S        2  \n",
       "\n",
       "[5 rows x 30 columns]"
      ]
     },
     "execution_count": 46,
     "metadata": {},
     "output_type": "execute_result"
    }
   ],
   "source": [
    "categorical.head()\n"
   ]
  },
  {
   "cell_type": "markdown",
   "id": "31576517",
   "metadata": {},
   "source": [
    "#### 2.1"
   ]
  },
  {
   "cell_type": "code",
   "execution_count": 47,
   "id": "fdcbb4f7",
   "metadata": {
    "scrolled": true
   },
   "outputs": [
    {
     "name": "stdout",
     "output_type": "stream",
     "text": [
      "MAILCODE\n",
      "A    94013\n",
      "B     1399\n",
      "Name: MAILCODE, dtype: int64\n",
      "NOEXCH\n",
      "0      61203\n",
      "0      33882\n",
      "1        195\n",
      "1         90\n",
      "X         35\n",
      "NaN        7\n",
      "Name: NOEXCH, dtype: int64\n",
      "MDMAUD\n",
      "XXXX    95118\n",
      "C1CM       65\n",
      "L1CM       44\n",
      "I1CM       37\n",
      "D2CM       28\n",
      "        ...  \n",
      "I2MM        1\n",
      "L1MM        1\n",
      "L2LM        1\n",
      "C5TM        1\n",
      "L2TM        1\n",
      "Name: MDMAUD, Length: 28, dtype: int64\n"
     ]
    }
   ],
   "source": [
    "list_t = ['MAILCODE', 'NOEXCH', 'MDMAUD']\n",
    "for i in list_t:\n",
    "    print(i)\n",
    "    print(categorical[i].value_counts(dropna=False))"
   ]
  },
  {
   "cell_type": "code",
   "execution_count": 48,
   "id": "649aa6d6",
   "metadata": {},
   "outputs": [],
   "source": [
    "drop_list = []\n",
    "drop_list += list_t"
   ]
  },
  {
   "cell_type": "code",
   "execution_count": 49,
   "id": "7f8a9ae8",
   "metadata": {},
   "outputs": [
    {
     "data": {
      "text/plain": [
       "['MAILCODE', 'NOEXCH', 'MDMAUD']"
      ]
     },
     "execution_count": 49,
     "metadata": {},
     "output_type": "execute_result"
    }
   ],
   "source": [
    "drop_list"
   ]
  },
  {
   "cell_type": "code",
   "execution_count": 50,
   "id": "bddccf47",
   "metadata": {},
   "outputs": [],
   "source": [
    "drop_list = drop_list + ['MDMAUD_R', 'MDMAUD_F','MDMAUD_A']"
   ]
  },
  {
   "cell_type": "code",
   "execution_count": 51,
   "id": "12be97f4",
   "metadata": {},
   "outputs": [
    {
     "data": {
      "text/plain": [
       "40    3979\n",
       "35    3624\n",
       "36    3617\n",
       "27    3553\n",
       "24    3539\n",
       "      ... \n",
       "6      603\n",
       "33     593\n",
       "4      561\n",
       "19     497\n",
       "52     270\n",
       "Name: CLUSTER, Length: 54, dtype: int64"
      ]
     },
     "execution_count": 51,
     "metadata": {},
     "output_type": "execute_result"
    }
   ],
   "source": [
    "categorical['CLUSTER'].value_counts(dropna=False)\n"
   ]
  },
  {
   "cell_type": "code",
   "execution_count": 52,
   "id": "a428dbcf",
   "metadata": {},
   "outputs": [],
   "source": [
    "categorical['CLUSTER'] = categorical['CLUSTER'].fillna('40')\n"
   ]
  },
  {
   "cell_type": "code",
   "execution_count": 53,
   "id": "7f178e14",
   "metadata": {},
   "outputs": [
    {
     "data": {
      "text/plain": [
       "H      52354\n",
       "NaN    22228\n",
       "U      20830\n",
       "Name: HOMEOWNR, dtype: int64"
      ]
     },
     "execution_count": 53,
     "metadata": {},
     "output_type": "execute_result"
    }
   ],
   "source": [
    "categorical['HOMEOWNR'].value_counts(dropna=False)\n"
   ]
  },
  {
   "cell_type": "code",
   "execution_count": 54,
   "id": "07ec454d",
   "metadata": {},
   "outputs": [],
   "source": [
    "categorical['HOMEOWNR'] = categorical['HOMEOWNR'].fillna('U')\n"
   ]
  },
  {
   "cell_type": "code",
   "execution_count": 55,
   "id": "f42b381d",
   "metadata": {},
   "outputs": [
    {
     "data": {
      "text/plain": [
       "F        51277\n",
       "M        39094\n",
       "OTHER     5041\n",
       "Name: GENDER, dtype: int64"
      ]
     },
     "execution_count": 55,
     "metadata": {},
     "output_type": "execute_result"
    }
   ],
   "source": [
    "categorical['GENDER'].value_counts(dropna=False)\n"
   ]
  },
  {
   "cell_type": "code",
   "execution_count": 56,
   "id": "150b4109",
   "metadata": {},
   "outputs": [
    {
     "data": {
      "text/plain": [
       "F        51277\n",
       "M        39094\n",
       "OTHER     5041\n",
       "Name: GENDER, dtype: int64"
      ]
     },
     "execution_count": 56,
     "metadata": {},
     "output_type": "execute_result"
    }
   ],
   "source": [
    "categorical['GENDER'].value_counts(dropna=False)\n"
   ]
  },
  {
   "cell_type": "code",
   "execution_count": 57,
   "id": "ecccfd86",
   "metadata": {},
   "outputs": [],
   "source": [
    "categorical['GENDER'] = categorical['GENDER'].fillna('F')"
   ]
  },
  {
   "cell_type": "markdown",
   "id": "7e52fadd",
   "metadata": {},
   "source": [
    "# 2.2.1"
   ]
  },
  {
   "cell_type": "code",
   "execution_count": 58,
   "id": "f05cdff0",
   "metadata": {},
   "outputs": [
    {
     "name": "stdout",
     "output_type": "stream",
     "text": [
      "DATASRCE\n",
      "3      43549\n",
      "2      23455\n",
      "NaN    21280\n",
      "1       7128\n",
      "Name: DATASRCE, dtype: int64\n",
      "GEOCODE2\n",
      "A      34484\n",
      "B      28505\n",
      "D      16580\n",
      "C      15524\n",
      "NaN      319\n",
      "Name: GEOCODE2, dtype: int64\n"
     ]
    }
   ],
   "source": [
    "list_t = ['DATASRCE', 'GEOCODE2']\n",
    "for i in list_t:\n",
    "    print(i)\n",
    "    print(categorical[i].value_counts(dropna=False))"
   ]
  },
  {
   "cell_type": "code",
   "execution_count": 59,
   "id": "720b924e",
   "metadata": {},
   "outputs": [],
   "source": [
    "# Following Jan solution but later will try 4 as other class\n",
    "categorical['DATASRCE'] = categorical['DATASRCE'].fillna('3')\n",
    "# Most frequent data gets the nan\n",
    "categorical['GEOCODE2'] = categorical['GEOCODE2'].fillna('A')"
   ]
  },
  {
   "cell_type": "code",
   "execution_count": 60,
   "id": "23ed454c",
   "metadata": {},
   "outputs": [
    {
     "data": {
      "text/plain": [
       "L1F    30380\n",
       "L1G    12384\n",
       "L2F    10961\n",
       "L3E     7767\n",
       "L2E     4989\n",
       "L4D     4914\n",
       "L1E     4911\n",
       "L2G     4595\n",
       "L4E     3972\n",
       "L3F     3523\n",
       "L3D     2498\n",
       "L4F     2100\n",
       "L3G     1503\n",
       "L4G      915\n",
       "Name: RFA_2, dtype: int64"
      ]
     },
     "execution_count": 60,
     "metadata": {},
     "output_type": "execute_result"
    }
   ],
   "source": [
    "categorical['RFA_2'].value_counts()\n"
   ]
  },
  {
   "cell_type": "code",
   "execution_count": 61,
   "id": "b58eae83",
   "metadata": {},
   "outputs": [],
   "source": [
    "for col_name in categorical.columns:\n",
    "    if \"RFA\" in col_name:\n",
    "        drop_list.append(col_name)       "
   ]
  },
  {
   "cell_type": "code",
   "execution_count": 62,
   "id": "6079edc3",
   "metadata": {},
   "outputs": [
    {
     "data": {
      "text/plain": [
       "['MAILCODE',\n",
       " 'NOEXCH',\n",
       " 'MDMAUD',\n",
       " 'MDMAUD_R',\n",
       " 'MDMAUD_F',\n",
       " 'MDMAUD_A',\n",
       " 'RFA_2',\n",
       " 'RFA_3',\n",
       " 'RFA_4',\n",
       " 'RFA_6',\n",
       " 'RFA_7',\n",
       " 'RFA_8',\n",
       " 'RFA_9',\n",
       " 'RFA_11',\n",
       " 'RFA_12',\n",
       " 'RFA_14',\n",
       " 'RFA_16',\n",
       " 'RFA_18']"
      ]
     },
     "execution_count": 62,
     "metadata": {},
     "output_type": "execute_result"
    }
   ],
   "source": [
    "drop_list.remove('RFA_2R')\n",
    "drop_list.remove('RFA_2A')\n",
    "drop_list"
   ]
  },
  {
   "cell_type": "code",
   "execution_count": 63,
   "id": "aa711e8f",
   "metadata": {},
   "outputs": [
    {
     "data": {
      "text/html": [
       "<div>\n",
       "<style scoped>\n",
       "    .dataframe tbody tr th:only-of-type {\n",
       "        vertical-align: middle;\n",
       "    }\n",
       "\n",
       "    .dataframe tbody tr th {\n",
       "        vertical-align: top;\n",
       "    }\n",
       "\n",
       "    .dataframe thead th {\n",
       "        text-align: right;\n",
       "    }\n",
       "</style>\n",
       "<table border=\"1\" class=\"dataframe\">\n",
       "  <thead>\n",
       "    <tr style=\"text-align: right;\">\n",
       "      <th></th>\n",
       "      <th>STATE</th>\n",
       "      <th>CLUSTER</th>\n",
       "      <th>HOMEOWNR</th>\n",
       "      <th>GENDER</th>\n",
       "      <th>DATASRCE</th>\n",
       "      <th>SOLIH</th>\n",
       "      <th>VETERANS</th>\n",
       "      <th>RFA_2R</th>\n",
       "      <th>RFA_2A</th>\n",
       "      <th>GEOCODE2</th>\n",
       "      <th>DOMAIN_A</th>\n",
       "      <th>DOMAIN_B</th>\n",
       "    </tr>\n",
       "  </thead>\n",
       "  <tbody>\n",
       "    <tr>\n",
       "      <th>0</th>\n",
       "      <td>IL</td>\n",
       "      <td>36</td>\n",
       "      <td>U</td>\n",
       "      <td>F</td>\n",
       "      <td>3</td>\n",
       "      <td>NaN</td>\n",
       "      <td>NaN</td>\n",
       "      <td>L</td>\n",
       "      <td>E</td>\n",
       "      <td>C</td>\n",
       "      <td>T</td>\n",
       "      <td>2</td>\n",
       "    </tr>\n",
       "    <tr>\n",
       "      <th>1</th>\n",
       "      <td>CA</td>\n",
       "      <td>14</td>\n",
       "      <td>H</td>\n",
       "      <td>M</td>\n",
       "      <td>3</td>\n",
       "      <td>NaN</td>\n",
       "      <td>NaN</td>\n",
       "      <td>L</td>\n",
       "      <td>G</td>\n",
       "      <td>A</td>\n",
       "      <td>S</td>\n",
       "      <td>1</td>\n",
       "    </tr>\n",
       "    <tr>\n",
       "      <th>2</th>\n",
       "      <td>NC</td>\n",
       "      <td>43</td>\n",
       "      <td>U</td>\n",
       "      <td>M</td>\n",
       "      <td>3</td>\n",
       "      <td>NaN</td>\n",
       "      <td>NaN</td>\n",
       "      <td>L</td>\n",
       "      <td>E</td>\n",
       "      <td>C</td>\n",
       "      <td>R</td>\n",
       "      <td>2</td>\n",
       "    </tr>\n",
       "    <tr>\n",
       "      <th>3</th>\n",
       "      <td>CA</td>\n",
       "      <td>44</td>\n",
       "      <td>U</td>\n",
       "      <td>F</td>\n",
       "      <td>3</td>\n",
       "      <td>NaN</td>\n",
       "      <td>NaN</td>\n",
       "      <td>L</td>\n",
       "      <td>E</td>\n",
       "      <td>C</td>\n",
       "      <td>R</td>\n",
       "      <td>2</td>\n",
       "    </tr>\n",
       "    <tr>\n",
       "      <th>4</th>\n",
       "      <td>FL</td>\n",
       "      <td>16</td>\n",
       "      <td>H</td>\n",
       "      <td>F</td>\n",
       "      <td>3</td>\n",
       "      <td>12</td>\n",
       "      <td>NaN</td>\n",
       "      <td>L</td>\n",
       "      <td>F</td>\n",
       "      <td>A</td>\n",
       "      <td>S</td>\n",
       "      <td>2</td>\n",
       "    </tr>\n",
       "  </tbody>\n",
       "</table>\n",
       "</div>"
      ],
      "text/plain": [
       "  STATE CLUSTER HOMEOWNR GENDER DATASRCE SOLIH VETERANS RFA_2R RFA_2A  \\\n",
       "0    IL      36        U      F        3   NaN      NaN      L      E   \n",
       "1    CA      14        H      M        3   NaN      NaN      L      G   \n",
       "2    NC      43        U      M        3   NaN      NaN      L      E   \n",
       "3    CA      44        U      F        3   NaN      NaN      L      E   \n",
       "4    FL      16        H      F        3    12      NaN      L      F   \n",
       "\n",
       "  GEOCODE2 DOMAIN_A DOMAIN_B  \n",
       "0        C        T        2  \n",
       "1        A        S        1  \n",
       "2        C        R        2  \n",
       "3        C        R        2  \n",
       "4        A        S        2  "
      ]
     },
     "execution_count": 63,
     "metadata": {},
     "output_type": "execute_result"
    }
   ],
   "source": [
    "categorical = categorical.drop(columns=drop_list)\n",
    "categorical.head()\n"
   ]
  },
  {
   "cell_type": "code",
   "execution_count": 64,
   "id": "5408d536",
   "metadata": {},
   "outputs": [
    {
     "data": {
      "text/plain": [
       "STATE           0\n",
       "CLUSTER         0\n",
       "HOMEOWNR        0\n",
       "GENDER          0\n",
       "DATASRCE        0\n",
       "SOLIH       89212\n",
       "VETERANS    84986\n",
       "RFA_2R          0\n",
       "RFA_2A          0\n",
       "GEOCODE2        0\n",
       "DOMAIN_A        0\n",
       "DOMAIN_B        0\n",
       "dtype: int64"
      ]
     },
     "execution_count": 64,
     "metadata": {},
     "output_type": "execute_result"
    }
   ],
   "source": [
    "categorical.isna().sum()\n"
   ]
  },
  {
   "cell_type": "markdown",
   "id": "55289d3a",
   "metadata": {},
   "source": [
    "# Working with numerical columns\n"
   ]
  },
  {
   "cell_type": "markdown",
   "id": "68923260",
   "metadata": {},
   "source": [
    "Working with numerical columns\n"
   ]
  },
  {
   "cell_type": "code",
   "execution_count": 65,
   "id": "e1dd4a3d",
   "metadata": {},
   "outputs": [
    {
     "data": {
      "text/html": [
       "<div>\n",
       "<style scoped>\n",
       "    .dataframe tbody tr th:only-of-type {\n",
       "        vertical-align: middle;\n",
       "    }\n",
       "\n",
       "    .dataframe tbody tr th {\n",
       "        vertical-align: top;\n",
       "    }\n",
       "\n",
       "    .dataframe thead th {\n",
       "        text-align: right;\n",
       "    }\n",
       "</style>\n",
       "<table border=\"1\" class=\"dataframe\">\n",
       "  <thead>\n",
       "    <tr style=\"text-align: right;\">\n",
       "      <th></th>\n",
       "      <th>ODATEDW</th>\n",
       "      <th>TCODE</th>\n",
       "      <th>DOB</th>\n",
       "      <th>AGE</th>\n",
       "      <th>INCOME</th>\n",
       "      <th>WEALTH1</th>\n",
       "      <th>HIT</th>\n",
       "      <th>...</th>\n",
       "      <th>NEXTDATE</th>\n",
       "      <th>TIMELAG</th>\n",
       "      <th>AVGGIFT</th>\n",
       "      <th>CONTROLN</th>\n",
       "      <th>HPHONE_D</th>\n",
       "      <th>RFA_2F</th>\n",
       "      <th>CLUSTER2</th>\n",
       "    </tr>\n",
       "  </thead>\n",
       "  <tbody>\n",
       "    <tr>\n",
       "      <th>0</th>\n",
       "      <td>8901</td>\n",
       "      <td>0</td>\n",
       "      <td>3712</td>\n",
       "      <td>60.0</td>\n",
       "      <td>NaN</td>\n",
       "      <td>NaN</td>\n",
       "      <td>0</td>\n",
       "      <td>...</td>\n",
       "      <td>9003.0</td>\n",
       "      <td>4.0</td>\n",
       "      <td>7.741935</td>\n",
       "      <td>95515</td>\n",
       "      <td>0</td>\n",
       "      <td>4</td>\n",
       "      <td>39.0</td>\n",
       "    </tr>\n",
       "    <tr>\n",
       "      <th>1</th>\n",
       "      <td>9401</td>\n",
       "      <td>1</td>\n",
       "      <td>5202</td>\n",
       "      <td>46.0</td>\n",
       "      <td>6.0</td>\n",
       "      <td>9.0</td>\n",
       "      <td>16</td>\n",
       "      <td>...</td>\n",
       "      <td>9504.0</td>\n",
       "      <td>18.0</td>\n",
       "      <td>15.666667</td>\n",
       "      <td>148535</td>\n",
       "      <td>0</td>\n",
       "      <td>2</td>\n",
       "      <td>1.0</td>\n",
       "    </tr>\n",
       "    <tr>\n",
       "      <th>2</th>\n",
       "      <td>9001</td>\n",
       "      <td>1</td>\n",
       "      <td>0</td>\n",
       "      <td>NaN</td>\n",
       "      <td>3.0</td>\n",
       "      <td>1.0</td>\n",
       "      <td>2</td>\n",
       "      <td>...</td>\n",
       "      <td>9101.0</td>\n",
       "      <td>12.0</td>\n",
       "      <td>7.481481</td>\n",
       "      <td>15078</td>\n",
       "      <td>1</td>\n",
       "      <td>4</td>\n",
       "      <td>60.0</td>\n",
       "    </tr>\n",
       "    <tr>\n",
       "      <th>3</th>\n",
       "      <td>8701</td>\n",
       "      <td>0</td>\n",
       "      <td>2801</td>\n",
       "      <td>70.0</td>\n",
       "      <td>1.0</td>\n",
       "      <td>4.0</td>\n",
       "      <td>2</td>\n",
       "      <td>...</td>\n",
       "      <td>8711.0</td>\n",
       "      <td>9.0</td>\n",
       "      <td>6.812500</td>\n",
       "      <td>172556</td>\n",
       "      <td>1</td>\n",
       "      <td>4</td>\n",
       "      <td>41.0</td>\n",
       "    </tr>\n",
       "    <tr>\n",
       "      <th>4</th>\n",
       "      <td>8601</td>\n",
       "      <td>0</td>\n",
       "      <td>2001</td>\n",
       "      <td>78.0</td>\n",
       "      <td>3.0</td>\n",
       "      <td>2.0</td>\n",
       "      <td>60</td>\n",
       "      <td>...</td>\n",
       "      <td>8005.0</td>\n",
       "      <td>14.0</td>\n",
       "      <td>6.864865</td>\n",
       "      <td>7112</td>\n",
       "      <td>1</td>\n",
       "      <td>2</td>\n",
       "      <td>26.0</td>\n",
       "    </tr>\n",
       "  </tbody>\n",
       "</table>\n",
       "<p>5 rows × 335 columns</p>\n",
       "</div>"
      ],
      "text/plain": [
       "   ODATEDW  TCODE   DOB   AGE  INCOME  WEALTH1  HIT  ...  NEXTDATE  TIMELAG  \\\n",
       "0     8901      0  3712  60.0     NaN      NaN    0  ...    9003.0      4.0   \n",
       "1     9401      1  5202  46.0     6.0      9.0   16  ...    9504.0     18.0   \n",
       "2     9001      1     0   NaN     3.0      1.0    2  ...    9101.0     12.0   \n",
       "3     8701      0  2801  70.0     1.0      4.0    2  ...    8711.0      9.0   \n",
       "4     8601      0  2001  78.0     3.0      2.0   60  ...    8005.0     14.0   \n",
       "\n",
       "     AVGGIFT  CONTROLN  HPHONE_D  RFA_2F  CLUSTER2  \n",
       "0   7.741935     95515         0       4      39.0  \n",
       "1  15.666667    148535         0       2       1.0  \n",
       "2   7.481481     15078         1       4      60.0  \n",
       "3   6.812500    172556         1       4      41.0  \n",
       "4   6.864865      7112         1       2      26.0  \n",
       "\n",
       "[5 rows x 335 columns]"
      ]
     },
     "execution_count": 65,
     "metadata": {},
     "output_type": "execute_result"
    }
   ],
   "source": [
    "numerical.head()\n"
   ]
  },
  {
   "cell_type": "code",
   "execution_count": 66,
   "id": "c3a99c0d",
   "metadata": {},
   "outputs": [
    {
     "data": {
      "text/plain": [
       "(95412, 335)"
      ]
     },
     "execution_count": 66,
     "metadata": {},
     "output_type": "execute_result"
    }
   ],
   "source": [
    "numerical.shape\n"
   ]
  },
  {
   "cell_type": "code",
   "execution_count": 67,
   "id": "168e9bc3",
   "metadata": {},
   "outputs": [
    {
     "data": {
      "text/html": [
       "<div>\n",
       "<style scoped>\n",
       "    .dataframe tbody tr th:only-of-type {\n",
       "        vertical-align: middle;\n",
       "    }\n",
       "\n",
       "    .dataframe tbody tr th {\n",
       "        vertical-align: top;\n",
       "    }\n",
       "\n",
       "    .dataframe thead th {\n",
       "        text-align: right;\n",
       "    }\n",
       "</style>\n",
       "<table border=\"1\" class=\"dataframe\">\n",
       "  <thead>\n",
       "    <tr style=\"text-align: right;\">\n",
       "      <th></th>\n",
       "      <th>column_name</th>\n",
       "      <th>nulls</th>\n",
       "    </tr>\n",
       "  </thead>\n",
       "  <tbody>\n",
       "    <tr>\n",
       "      <th>3</th>\n",
       "      <td>AGE</td>\n",
       "      <td>23665</td>\n",
       "    </tr>\n",
       "    <tr>\n",
       "      <th>4</th>\n",
       "      <td>INCOME</td>\n",
       "      <td>21286</td>\n",
       "    </tr>\n",
       "    <tr>\n",
       "      <th>5</th>\n",
       "      <td>WEALTH1</td>\n",
       "      <td>44732</td>\n",
       "    </tr>\n",
       "    <tr>\n",
       "      <th>14</th>\n",
       "      <td>WEALTH2</td>\n",
       "      <td>43823</td>\n",
       "    </tr>\n",
       "    <tr>\n",
       "      <th>135</th>\n",
       "      <td>MSA</td>\n",
       "      <td>132</td>\n",
       "    </tr>\n",
       "    <tr>\n",
       "      <th>...</th>\n",
       "      <td>...</td>\n",
       "      <td>...</td>\n",
       "    </tr>\n",
       "    <tr>\n",
       "      <th>311</th>\n",
       "      <td>ADATE_16</td>\n",
       "      <td>20364</td>\n",
       "    </tr>\n",
       "    <tr>\n",
       "      <th>312</th>\n",
       "      <td>ADATE_18</td>\n",
       "      <td>21263</td>\n",
       "    </tr>\n",
       "    <tr>\n",
       "      <th>328</th>\n",
       "      <td>NEXTDATE</td>\n",
       "      <td>9973</td>\n",
       "    </tr>\n",
       "    <tr>\n",
       "      <th>329</th>\n",
       "      <td>TIMELAG</td>\n",
       "      <td>9973</td>\n",
       "    </tr>\n",
       "    <tr>\n",
       "      <th>334</th>\n",
       "      <td>CLUSTER2</td>\n",
       "      <td>132</td>\n",
       "    </tr>\n",
       "  </tbody>\n",
       "</table>\n",
       "<p>21 rows × 2 columns</p>\n",
       "</div>"
      ],
      "text/plain": [
       "    column_name  nulls\n",
       "3           AGE  23665\n",
       "4        INCOME  21286\n",
       "5       WEALTH1  44732\n",
       "14      WEALTH2  43823\n",
       "135         MSA    132\n",
       "..          ...    ...\n",
       "311    ADATE_16  20364\n",
       "312    ADATE_18  21263\n",
       "328    NEXTDATE   9973\n",
       "329     TIMELAG   9973\n",
       "334    CLUSTER2    132\n",
       "\n",
       "[21 rows x 2 columns]"
      ]
     },
     "execution_count": 67,
     "metadata": {},
     "output_type": "execute_result"
    }
   ],
   "source": [
    "df = pd.DataFrame(numerical.isna().sum()).reset_index()\n",
    "df.columns = ['column_name', 'nulls']\n",
    "df[df['nulls']>0]"
   ]
  },
  {
   "cell_type": "code",
   "execution_count": 68,
   "id": "eb0a721f",
   "metadata": {},
   "outputs": [],
   "source": [
    "drop_list = []\n",
    "for i in numerical.columns:\n",
    "    if 'ADATE' in i:\n",
    "        drop_list.append(i)"
   ]
  },
  {
   "cell_type": "code",
   "execution_count": 69,
   "id": "763d2461",
   "metadata": {},
   "outputs": [
    {
     "data": {
      "text/plain": [
       "['ADATE_2',\n",
       " 'ADATE_3',\n",
       " 'ADATE_4',\n",
       " 'ADATE_6',\n",
       " 'ADATE_7',\n",
       " 'ADATE_8',\n",
       " 'ADATE_9',\n",
       " 'ADATE_11',\n",
       " 'ADATE_12',\n",
       " 'ADATE_14',\n",
       " 'ADATE_16',\n",
       " 'ADATE_18']"
      ]
     },
     "execution_count": 69,
     "metadata": {},
     "output_type": "execute_result"
    }
   ],
   "source": [
    "drop_list.pop()\n",
    "drop_list"
   ]
  },
  {
   "cell_type": "markdown",
   "id": "05419561",
   "metadata": {},
   "source": [
    "Filling NULL values with plots\n"
   ]
  },
  {
   "cell_type": "code",
   "execution_count": 70,
   "id": "d4e73c3e",
   "metadata": {},
   "outputs": [
    {
     "data": {
      "image/png": "[encoded data removed]",
      "text/plain": [
       "<Figure size 500x500 with 1 Axes>"
      ]
     },
     "metadata": {},
     "output_type": "display_data"
    }
   ],
   "source": [
    "numerical['AGE'] = numerical[\"AGE\"].fillna(np.mean(numerical['AGE']))\n",
    "sns.displot(numerical['AGE'], kind = 'kde')\n",
    "plt.show()"
   ]
  },
  {
   "cell_type": "code",
   "execution_count": 71,
   "id": "6e544075",
   "metadata": {},
   "outputs": [
    {
     "data": {
      "image/png": "[encoded data removed]",
      "text/plain": [
       "<Figure size 500x500 with 1 Axes>"
      ]
     },
     "metadata": {},
     "output_type": "display_data"
    }
   ],
   "source": [
    "sns.displot(numerical['INCOME'])\n",
    "plt.show()"
   ]
  },
  {
   "cell_type": "code",
   "execution_count": 72,
   "id": "36bd890f",
   "metadata": {},
   "outputs": [
    {
     "name": "stdout",
     "output_type": "stream",
     "text": [
      "5.0    15451\n",
      "2.0    13114\n",
      "4.0    12732\n",
      "1.0     9022\n",
      "3.0     8558\n",
      "6.0     7778\n",
      "7.0     7471\n",
      "Name: INCOME, dtype: int64\n"
     ]
    }
   ],
   "source": [
    "print(numerical['INCOME'].value_counts())\n",
    "numerical['INCOME'] = numerical['INCOME'].astype('object')\n"
   ]
  },
  {
   "cell_type": "code",
   "execution_count": 73,
   "id": "a92cdccd",
   "metadata": {},
   "outputs": [],
   "source": [
    "numerical['INCOME'] = numerical['INCOME'].fillna(5.0)"
   ]
  },
  {
   "cell_type": "code",
   "execution_count": 74,
   "id": "aa072879",
   "metadata": {},
   "outputs": [
    {
     "data": {
      "text/plain": [
       "5.0    36737\n",
       "2.0    13114\n",
       "4.0    12732\n",
       "1.0     9022\n",
       "3.0     8558\n",
       "6.0     7778\n",
       "7.0     7471\n",
       "Name: INCOME, dtype: int64"
      ]
     },
     "execution_count": 74,
     "metadata": {},
     "output_type": "execute_result"
    }
   ],
   "source": [
    "numerical['INCOME'].value_counts()\n"
   ]
  },
  {
   "cell_type": "code",
   "execution_count": 75,
   "id": "6a114e57",
   "metadata": {},
   "outputs": [
    {
     "data": {
      "image/png": "[encoded data removed]",
      "text/plain": [
       "<Figure size 500x500 with 1 Axes>"
      ]
     },
     "metadata": {},
     "output_type": "display_data"
    }
   ],
   "source": [
    "sns.displot(numerical['CLUSTER2']) \n",
    "plt.show()\n"
   ]
  },
  {
   "cell_type": "code",
   "execution_count": 76,
   "id": "2fe10525",
   "metadata": {},
   "outputs": [],
   "source": [
    "numerical['CLUSTER2'] = numerical['CLUSTER2'].fillna(np.ceil(np.mean(numerical['CLUSTER2'])))\n"
   ]
  },
  {
   "cell_type": "markdown",
   "id": "d82b6faf",
   "metadata": {},
   "source": [
    "# 2.3"
   ]
  },
  {
   "cell_type": "code",
   "execution_count": 77,
   "id": "0ef90875",
   "metadata": {},
   "outputs": [],
   "source": [
    "numerical_nuls = numerical.isna().sum().reset_index()\n",
    "numerical_nuls.columns = ['column', 'count']\n"
   ]
  },
  {
   "cell_type": "code",
   "execution_count": 78,
   "id": "a51b9bbd",
   "metadata": {},
   "outputs": [
    {
     "data": {
      "text/html": [
       "<div>\n",
       "<style scoped>\n",
       "    .dataframe tbody tr th:only-of-type {\n",
       "        vertical-align: middle;\n",
       "    }\n",
       "\n",
       "    .dataframe tbody tr th {\n",
       "        vertical-align: top;\n",
       "    }\n",
       "\n",
       "    .dataframe thead th {\n",
       "        text-align: right;\n",
       "    }\n",
       "</style>\n",
       "<table border=\"1\" class=\"dataframe\">\n",
       "  <thead>\n",
       "    <tr style=\"text-align: right;\">\n",
       "      <th></th>\n",
       "      <th>column</th>\n",
       "      <th>count</th>\n",
       "    </tr>\n",
       "  </thead>\n",
       "  <tbody>\n",
       "    <tr>\n",
       "      <th>5</th>\n",
       "      <td>WEALTH1</td>\n",
       "      <td>44732</td>\n",
       "    </tr>\n",
       "    <tr>\n",
       "      <th>14</th>\n",
       "      <td>WEALTH2</td>\n",
       "      <td>43823</td>\n",
       "    </tr>\n",
       "    <tr>\n",
       "      <th>135</th>\n",
       "      <td>MSA</td>\n",
       "      <td>132</td>\n",
       "    </tr>\n",
       "    <tr>\n",
       "      <th>136</th>\n",
       "      <td>ADI</td>\n",
       "      <td>132</td>\n",
       "    </tr>\n",
       "    <tr>\n",
       "      <th>137</th>\n",
       "      <td>DMA</td>\n",
       "      <td>132</td>\n",
       "    </tr>\n",
       "    <tr>\n",
       "      <th>...</th>\n",
       "      <td>...</td>\n",
       "      <td>...</td>\n",
       "    </tr>\n",
       "    <tr>\n",
       "      <th>310</th>\n",
       "      <td>ADATE_14</td>\n",
       "      <td>18867</td>\n",
       "    </tr>\n",
       "    <tr>\n",
       "      <th>311</th>\n",
       "      <td>ADATE_16</td>\n",
       "      <td>20364</td>\n",
       "    </tr>\n",
       "    <tr>\n",
       "      <th>312</th>\n",
       "      <td>ADATE_18</td>\n",
       "      <td>21263</td>\n",
       "    </tr>\n",
       "    <tr>\n",
       "      <th>328</th>\n",
       "      <td>NEXTDATE</td>\n",
       "      <td>9973</td>\n",
       "    </tr>\n",
       "    <tr>\n",
       "      <th>329</th>\n",
       "      <td>TIMELAG</td>\n",
       "      <td>9973</td>\n",
       "    </tr>\n",
       "  </tbody>\n",
       "</table>\n",
       "<p>18 rows × 2 columns</p>\n",
       "</div>"
      ],
      "text/plain": [
       "       column  count\n",
       "5     WEALTH1  44732\n",
       "14    WEALTH2  43823\n",
       "135       MSA    132\n",
       "136       ADI    132\n",
       "137       DMA    132\n",
       "..        ...    ...\n",
       "310  ADATE_14  18867\n",
       "311  ADATE_16  20364\n",
       "312  ADATE_18  21263\n",
       "328  NEXTDATE   9973\n",
       "329   TIMELAG   9973\n",
       "\n",
       "[18 rows x 2 columns]"
      ]
     },
     "execution_count": 78,
     "metadata": {},
     "output_type": "execute_result"
    }
   ],
   "source": [
    "numerical_nuls[numerical_nuls['count'] > 0]\n"
   ]
  },
  {
   "cell_type": "code",
   "execution_count": 79,
   "id": "9a53e573",
   "metadata": {},
   "outputs": [],
   "source": [
    "numerical['WEALTH2'].value_counts(dropna = False)\n",
    "plt.show()"
   ]
  },
  {
   "cell_type": "code",
   "execution_count": 80,
   "id": "44180156",
   "metadata": {},
   "outputs": [
    {
     "data": {
      "text/plain": [
       "5.0    49174\n",
       "9.0     6523\n",
       "8.0     5975\n",
       "7.0     5684\n",
       "6.0     5497\n",
       "4.0     5074\n",
       "3.0     5046\n",
       "2.0     4971\n",
       "1.0     4191\n",
       "0.0     3277\n",
       "Name: WEALTH2, dtype: int64"
      ]
     },
     "execution_count": 80,
     "metadata": {},
     "output_type": "execute_result"
    }
   ],
   "source": [
    "numerical['WEALTH2'] = numerical['WEALTH2'].fillna(np.ceil(numerical['WEALTH2'].mean()))\n",
    "numerical['WEALTH2'].value_counts()"
   ]
  },
  {
   "cell_type": "code",
   "execution_count": 81,
   "id": "ad193d1f",
   "metadata": {},
   "outputs": [
    {
     "data": {
      "text/plain": [
       "NaN       9973\n",
       "5.0       8584\n",
       "4.0       8490\n",
       "3.0       8485\n",
       "6.0       6648\n",
       "          ... \n",
       "89.0         1\n",
       "1044.0       1\n",
       "53.0         1\n",
       "442.0        1\n",
       "1088.0       1\n",
       "Name: TIMELAG, Length: 69, dtype: int64"
      ]
     },
     "execution_count": 81,
     "metadata": {},
     "output_type": "execute_result"
    }
   ],
   "source": [
    "numerical['TIMELAG'].value_counts(dropna = False)\n"
   ]
  },
  {
   "cell_type": "code",
   "execution_count": 82,
   "id": "3bf7b81b",
   "metadata": {},
   "outputs": [],
   "source": [
    "numerical['TIMELAG'] = numerical['TIMELAG'].fillna(numerical['TIMELAG'].median())\n"
   ]
  },
  {
   "cell_type": "markdown",
   "id": "f0507100",
   "metadata": {},
   "source": [
    "Lab 2"
   ]
  },
  {
   "cell_type": "code",
   "execution_count": 83,
   "id": "79fdcc05",
   "metadata": {},
   "outputs": [
    {
     "data": {
      "text/html": [
       "<div>\n",
       "<style scoped>\n",
       "    .dataframe tbody tr th:only-of-type {\n",
       "        vertical-align: middle;\n",
       "    }\n",
       "\n",
       "    .dataframe tbody tr th {\n",
       "        vertical-align: top;\n",
       "    }\n",
       "\n",
       "    .dataframe thead th {\n",
       "        text-align: right;\n",
       "    }\n",
       "</style>\n",
       "<table border=\"1\" class=\"dataframe\">\n",
       "  <thead>\n",
       "    <tr style=\"text-align: right;\">\n",
       "      <th></th>\n",
       "      <th>column</th>\n",
       "      <th>count</th>\n",
       "    </tr>\n",
       "  </thead>\n",
       "  <tbody>\n",
       "    <tr>\n",
       "      <th>5</th>\n",
       "      <td>WEALTH1</td>\n",
       "      <td>44732</td>\n",
       "    </tr>\n",
       "    <tr>\n",
       "      <th>135</th>\n",
       "      <td>MSA</td>\n",
       "      <td>132</td>\n",
       "    </tr>\n",
       "    <tr>\n",
       "      <th>136</th>\n",
       "      <td>ADI</td>\n",
       "      <td>132</td>\n",
       "    </tr>\n",
       "    <tr>\n",
       "      <th>137</th>\n",
       "      <td>DMA</td>\n",
       "      <td>132</td>\n",
       "    </tr>\n",
       "    <tr>\n",
       "      <th>328</th>\n",
       "      <td>NEXTDATE</td>\n",
       "      <td>9973</td>\n",
       "    </tr>\n",
       "  </tbody>\n",
       "</table>\n",
       "</div>"
      ],
      "text/plain": [
       "       column  count\n",
       "5     WEALTH1  44732\n",
       "135       MSA    132\n",
       "136       ADI    132\n",
       "137       DMA    132\n",
       "328  NEXTDATE   9973"
      ]
     },
     "execution_count": 83,
     "metadata": {},
     "output_type": "execute_result"
    }
   ],
   "source": [
    "# Showing all columns that still have nans\n",
    "numerical_nuls = numerical.isna().sum().reset_index()\n",
    "numerical_nuls.columns = ['column', 'count']\n",
    "numerical_nuls = numerical_nuls[numerical_nuls['count'] > 0]\n",
    "\n",
    "\n",
    "numerical_nuls = numerical_nuls.loc[~numerical_nuls['column'].isin(drop_list)]\n",
    "numerical_nuls"
   ]
  },
  {
   "cell_type": "code",
   "execution_count": 84,
   "id": "dadf95af",
   "metadata": {},
   "outputs": [
    {
     "name": "stdout",
     "output_type": "stream",
     "text": [
      "WEALTH1\n"
     ]
    },
    {
     "data": {
      "text/plain": [
       "NaN    44732\n",
       "9.0     7585\n",
       "8.0     6793\n",
       "7.0     6198\n",
       "6.0     5825\n",
       "5.0     5280\n",
       "4.0     4810\n",
       "3.0     4237\n",
       "2.0     4085\n",
       "1.0     3454\n",
       "0.0     2413\n",
       "Name: WEALTH1, dtype: int64"
      ]
     },
     "metadata": {},
     "output_type": "display_data"
    },
    {
     "data": {
      "text/plain": [
       "44732"
      ]
     },
     "metadata": {},
     "output_type": "display_data"
    },
    {
     "name": "stdout",
     "output_type": "stream",
     "text": [
      "MSA\n"
     ]
    },
    {
     "data": {
      "text/plain": [
       "0.0       21333\n",
       "4480.0     4606\n",
       "1600.0     4059\n",
       "2160.0     2586\n",
       "520.0      1685\n",
       "          ...  \n",
       "9140.0        1\n",
       "3200.0        1\n",
       "9280.0        1\n",
       "743.0         1\n",
       "8480.0        1\n",
       "Name: MSA, Length: 299, dtype: int64"
      ]
     },
     "metadata": {},
     "output_type": "display_data"
    },
    {
     "data": {
      "text/plain": [
       "132"
      ]
     },
     "metadata": {},
     "output_type": "display_data"
    },
    {
     "name": "stdout",
     "output_type": "stream",
     "text": [
      "ADI\n"
     ]
    },
    {
     "data": {
      "text/plain": [
       "13.0     7296\n",
       "51.0     4622\n",
       "65.0     3765\n",
       "57.0     2836\n",
       "105.0    2617\n",
       "         ... \n",
       "651.0       1\n",
       "103.0       1\n",
       "601.0       1\n",
       "161.0       1\n",
       "147.0       1\n",
       "Name: ADI, Length: 205, dtype: int64"
      ]
     },
     "metadata": {},
     "output_type": "display_data"
    },
    {
     "data": {
      "text/plain": [
       "132"
      ]
     },
     "metadata": {},
     "output_type": "display_data"
    },
    {
     "name": "stdout",
     "output_type": "stream",
     "text": [
      "DMA\n"
     ]
    },
    {
     "data": {
      "text/plain": [
       "803.0    7296\n",
       "602.0    4632\n",
       "807.0    3765\n",
       "505.0    2839\n",
       "819.0    2588\n",
       "         ... \n",
       "569.0       1\n",
       "554.0       1\n",
       "584.0       1\n",
       "552.0       1\n",
       "516.0       1\n",
       "Name: DMA, Length: 207, dtype: int64"
      ]
     },
     "metadata": {},
     "output_type": "display_data"
    },
    {
     "data": {
      "text/plain": [
       "132"
      ]
     },
     "metadata": {},
     "output_type": "display_data"
    }
   ],
   "source": [
    "for i in numerical_nuls['column']:\n",
    "    if i != 'NEXTDATE':\n",
    "        print(i)\n",
    "        display(numerical[i].value_counts(dropna=False))\n",
    "        display(numerical[i].isna().sum())"
   ]
  },
  {
   "cell_type": "code",
   "execution_count": 85,
   "id": "0c3e6d67",
   "metadata": {},
   "outputs": [
    {
     "data": {
      "text/html": [
       "<div>\n",
       "<style scoped>\n",
       "    .dataframe tbody tr th:only-of-type {\n",
       "        vertical-align: middle;\n",
       "    }\n",
       "\n",
       "    .dataframe tbody tr th {\n",
       "        vertical-align: top;\n",
       "    }\n",
       "\n",
       "    .dataframe thead th {\n",
       "        text-align: right;\n",
       "    }\n",
       "</style>\n",
       "<table border=\"1\" class=\"dataframe\">\n",
       "  <thead>\n",
       "    <tr style=\"text-align: right;\">\n",
       "      <th></th>\n",
       "      <th>count</th>\n",
       "      <th>mean</th>\n",
       "      <th>std</th>\n",
       "      <th>min</th>\n",
       "      <th>25%</th>\n",
       "      <th>50%</th>\n",
       "      <th>75%</th>\n",
       "      <th>max</th>\n",
       "    </tr>\n",
       "  </thead>\n",
       "  <tbody>\n",
       "    <tr>\n",
       "      <th>WEALTH1</th>\n",
       "      <td>50680.0</td>\n",
       "      <td>5.345699</td>\n",
       "      <td>2.742490</td>\n",
       "      <td>0.0</td>\n",
       "      <td>3.0</td>\n",
       "      <td>6.0</td>\n",
       "      <td>8.0</td>\n",
       "      <td>9.0</td>\n",
       "    </tr>\n",
       "    <tr>\n",
       "      <th>MSA</th>\n",
       "      <td>95280.0</td>\n",
       "      <td>3527.744102</td>\n",
       "      <td>2863.904737</td>\n",
       "      <td>0.0</td>\n",
       "      <td>520.0</td>\n",
       "      <td>3350.0</td>\n",
       "      <td>5960.0</td>\n",
       "      <td>9360.0</td>\n",
       "    </tr>\n",
       "    <tr>\n",
       "      <th>ADI</th>\n",
       "      <td>95280.0</td>\n",
       "      <td>187.356402</td>\n",
       "      <td>137.019184</td>\n",
       "      <td>0.0</td>\n",
       "      <td>65.0</td>\n",
       "      <td>175.0</td>\n",
       "      <td>279.0</td>\n",
       "      <td>651.0</td>\n",
       "    </tr>\n",
       "    <tr>\n",
       "      <th>DMA</th>\n",
       "      <td>95280.0</td>\n",
       "      <td>664.004072</td>\n",
       "      <td>116.363600</td>\n",
       "      <td>0.0</td>\n",
       "      <td>561.0</td>\n",
       "      <td>635.0</td>\n",
       "      <td>801.0</td>\n",
       "      <td>881.0</td>\n",
       "    </tr>\n",
       "    <tr>\n",
       "      <th>NEXTDATE</th>\n",
       "      <td>85439.0</td>\n",
       "      <td>9151.022917</td>\n",
       "      <td>294.257260</td>\n",
       "      <td>7211.0</td>\n",
       "      <td>8903.0</td>\n",
       "      <td>9204.0</td>\n",
       "      <td>9409.0</td>\n",
       "      <td>9702.0</td>\n",
       "    </tr>\n",
       "  </tbody>\n",
       "</table>\n",
       "</div>"
      ],
      "text/plain": [
       "            count         mean          std     min     25%     50%     75%  \\\n",
       "WEALTH1   50680.0     5.345699     2.742490     0.0     3.0     6.0     8.0   \n",
       "MSA       95280.0  3527.744102  2863.904737     0.0   520.0  3350.0  5960.0   \n",
       "ADI       95280.0   187.356402   137.019184     0.0    65.0   175.0   279.0   \n",
       "DMA       95280.0   664.004072   116.363600     0.0   561.0   635.0   801.0   \n",
       "NEXTDATE  85439.0  9151.022917   294.257260  7211.0  8903.0  9204.0  9409.0   \n",
       "\n",
       "             max  \n",
       "WEALTH1      9.0  \n",
       "MSA       9360.0  \n",
       "ADI        651.0  \n",
       "DMA        881.0  \n",
       "NEXTDATE  9702.0  "
      ]
     },
     "execution_count": 85,
     "metadata": {},
     "output_type": "execute_result"
    }
   ],
   "source": [
    "numerical[numerical_nuls['column']].describe().T"
   ]
  },
  {
   "cell_type": "code",
   "execution_count": 86,
   "id": "a07e5ca1",
   "metadata": {},
   "outputs": [],
   "source": [
    "numerical['MSA'] = numerical['MSA'].fillna(0.0)\n",
    "numerical['ADI'] = numerical['ADI'].fillna(13.0)\n",
    "numerical['DMA'] = numerical['DMA'].fillna(803.0)"
   ]
  },
  {
   "cell_type": "code",
   "execution_count": 87,
   "id": "e091c159",
   "metadata": {},
   "outputs": [],
   "source": [
    "numerical['WEALTH1'] = numerical['WEALTH1'].fillna(np.ceil(numerical['WEALTH1'].mean()))\n"
   ]
  },
  {
   "cell_type": "markdown",
   "id": "eda6bc10",
   "metadata": {},
   "source": [
    "# Wrapping up\n"
   ]
  },
  {
   "cell_type": "code",
   "execution_count": 88,
   "id": "4ef5fa70",
   "metadata": {},
   "outputs": [],
   "source": [
    "numerical = numerical.drop(columns=drop_list)\n"
   ]
  },
  {
   "cell_type": "code",
   "execution_count": 89,
   "id": "77ff6bdd",
   "metadata": {},
   "outputs": [
    {
     "data": {
      "text/html": [
       "<div>\n",
       "<style scoped>\n",
       "    .dataframe tbody tr th:only-of-type {\n",
       "        vertical-align: middle;\n",
       "    }\n",
       "\n",
       "    .dataframe tbody tr th {\n",
       "        vertical-align: top;\n",
       "    }\n",
       "\n",
       "    .dataframe thead th {\n",
       "        text-align: right;\n",
       "    }\n",
       "</style>\n",
       "<table border=\"1\" class=\"dataframe\">\n",
       "  <thead>\n",
       "    <tr style=\"text-align: right;\">\n",
       "      <th></th>\n",
       "      <th>column_name</th>\n",
       "      <th>nulls</th>\n",
       "    </tr>\n",
       "  </thead>\n",
       "  <tbody>\n",
       "    <tr>\n",
       "      <th>316</th>\n",
       "      <td>NEXTDATE</td>\n",
       "      <td>9973</td>\n",
       "    </tr>\n",
       "  </tbody>\n",
       "</table>\n",
       "</div>"
      ],
      "text/plain": [
       "    column_name  nulls\n",
       "316    NEXTDATE   9973"
      ]
     },
     "execution_count": 89,
     "metadata": {},
     "output_type": "execute_result"
    }
   ],
   "source": [
    "df = pd.DataFrame(numerical.isna().sum()).reset_index()\n",
    "df.columns = ['column_name', 'nulls']\n",
    "df[df['nulls']>0]"
   ]
  },
  {
   "cell_type": "code",
   "execution_count": 90,
   "id": "d92356ab",
   "metadata": {},
   "outputs": [],
   "source": [
    "numerical.to_csv('numerical1.csv')\n",
    "categorical.to_csv('categorical1.csv')"
   ]
  },
  {
   "cell_type": "code",
   "execution_count": 91,
   "id": "8220accc",
   "metadata": {},
   "outputs": [],
   "source": [
    "Y.to_csv('target1.csv')"
   ]
  },
  {
   "cell_type": "code",
   "execution_count": null,
   "id": "dad7bf9f",
   "metadata": {},
   "outputs": [],
   "source": []
  },
  {
   "cell_type": "markdown",
   "id": "523ba416",
   "metadata": {},
   "source": []
  },
  {
   "cell_type": "code",
   "execution_count": null,
   "id": "5df081ba",
   "metadata": {},
   "outputs": [],
   "source": []
  },
  {
   "cell_type": "code",
   "execution_count": null,
   "id": "5b9617bc",
   "metadata": {},
   "outputs": [],
   "source": []
  }
 ],
 "metadata": {
  "kernelspec": {
   "display_name": "Python 3 (ipykernel)",
   "language": "python",
   "name": "python3"
  },
  "language_info": {
   "codemirror_mode": {
    "name": "ipython",
    "version": 3
   },
   "file_extension": ".py",
   "mimetype": "text/x-python",
   "name": "python",
   "nbconvert_exporter": "python",
   "pygments_lexer": "ipython3",
   "version": "3.9.13"
  }
 },
 "nbformat": 4,
 "nbformat_minor": 5
}
